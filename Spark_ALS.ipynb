{
 "cells": [
  {
   "cell_type": "code",
   "execution_count": 33,
   "metadata": {},
   "outputs": [],
   "source": [
    "import os\n",
    "import datetime\n",
    "import socket\n",
    "from pyspark import SparkConf, SparkContext, SQLContext\n",
    "from pyspark.sql import SparkSession\n",
    "from pyspark.sql.functions import udf, length, when, col, broadcast\n",
    "from pyspark.sql.types import BooleanType, IntegerType, LongType, StringType, ArrayType, FloatType, StructType, StructField, DateType, BooleanType\n",
    "import pyspark.sql.functions as F\n",
    "from pyspark.sql.functions import pandas_udf\n",
    "from pyspark.sql.functions import PandasUDFType\n",
    "from pyspark import StorageLevel\n",
    "from jinja2 import Environment, FileSystemLoader\n",
    "\n",
    "from pyspark.ml.feature import StringIndexer, VectorAssembler\n",
    "from pyspark.ml.classification import LogisticRegression, DecisionTreeClassifier, RandomForestClassifier, GBTClassifier\n",
    "from pyspark.ml.evaluation import BinaryClassificationEvaluator, MulticlassClassificationEvaluator\n",
    "\n",
    "from collections import Counter\n",
    "\n",
    "from pyspark.ml.stat import Correlation\n",
    "import seaborn as sns\n",
    "import matplotlib.pylab as plt\n",
    "\n",
    "from pyspark.sql import SparkSession\n",
    "\n",
    "spark = SparkSession.builder\\\n",
    "        .master(\"local[*]\")\\\n",
    "        .appName('PySpark_Tutorial')\\\n",
    "        .getOrCreate()"
   ]
  },
  {
   "cell_type": "code",
   "execution_count": 34,
   "metadata": {},
   "outputs": [],
   "source": []
  },
  {
   "cell_type": "code",
   "execution_count": 35,
   "metadata": {},
   "outputs": [],
   "source": [
    "df = spark.read.parquet(r\"alfabattle2_train_transactions_contest\\train_transactions_contest\\part_000_0_to_23646.parquet\")"
   ]
  },
  {
   "cell_type": "code",
   "execution_count": 36,
   "metadata": {},
   "outputs": [],
   "source": [
    "# df = spark.read.csv(\"new_results.csv\", header=True, inferSchema=True).persist(StorageLevel.DISK_ONLY)"
   ]
  },
  {
   "cell_type": "markdown",
   "metadata": {},
   "source": [
    "## Разведочный анализ"
   ]
  },
  {
   "cell_type": "markdown",
   "metadata": {},
   "source": [
    "### Просмотр данных"
   ]
  },
  {
   "cell_type": "code",
   "execution_count": 128,
   "metadata": {},
   "outputs": [
    {
     "ename": "ConnectionRefusedError",
     "evalue": "[WinError 10061] No connection could be made because the target machine actively refused it",
     "output_type": "error",
     "traceback": [
      "\u001b[1;31m---------------------------------------------------------------------------\u001b[0m",
      "\u001b[1;31mConnectionRefusedError\u001b[0m                    Traceback (most recent call last)",
      "\u001b[1;32md:\\GitHub\\Project\\Spark_ALS.ipynb Cell 7'\u001b[0m in \u001b[0;36m<cell line: 1>\u001b[1;34m()\u001b[0m\n\u001b[1;32m----> <a href='vscode-notebook-cell:/d%3A/GitHub/Project/Spark_ALS.ipynb#ch0000005?line=0'>1</a>\u001b[0m df\u001b[39m.\u001b[39;49mshow(\u001b[39m5\u001b[39;49m)\n",
      "File \u001b[1;32mc:\\Users\\vladm\\anaconda3\\lib\\site-packages\\pyspark\\sql\\dataframe.py:494\u001b[0m, in \u001b[0;36mDataFrame.show\u001b[1;34m(self, n, truncate, vertical)\u001b[0m\n\u001b[0;32m    491\u001b[0m     \u001b[39mraise\u001b[39;00m \u001b[39mTypeError\u001b[39;00m(\u001b[39m\"\u001b[39m\u001b[39mParameter \u001b[39m\u001b[39m'\u001b[39m\u001b[39mvertical\u001b[39m\u001b[39m'\u001b[39m\u001b[39m must be a bool\u001b[39m\u001b[39m\"\u001b[39m)\n\u001b[0;32m    493\u001b[0m \u001b[39mif\u001b[39;00m \u001b[39misinstance\u001b[39m(truncate, \u001b[39mbool\u001b[39m) \u001b[39mand\u001b[39;00m truncate:\n\u001b[1;32m--> 494\u001b[0m     \u001b[39mprint\u001b[39m(\u001b[39mself\u001b[39;49m\u001b[39m.\u001b[39;49m_jdf\u001b[39m.\u001b[39;49mshowString(n, \u001b[39m20\u001b[39;49m, vertical))\n\u001b[0;32m    495\u001b[0m \u001b[39melse\u001b[39;00m:\n\u001b[0;32m    496\u001b[0m     \u001b[39mtry\u001b[39;00m:\n",
      "File \u001b[1;32mc:\\Users\\vladm\\anaconda3\\lib\\site-packages\\py4j\\java_gateway.py:1320\u001b[0m, in \u001b[0;36mJavaMember.__call__\u001b[1;34m(self, *args)\u001b[0m\n\u001b[0;32m   1313\u001b[0m args_command, temp_args \u001b[39m=\u001b[39m \u001b[39mself\u001b[39m\u001b[39m.\u001b[39m_build_args(\u001b[39m*\u001b[39margs)\n\u001b[0;32m   1315\u001b[0m command \u001b[39m=\u001b[39m proto\u001b[39m.\u001b[39mCALL_COMMAND_NAME \u001b[39m+\u001b[39m\\\n\u001b[0;32m   1316\u001b[0m     \u001b[39mself\u001b[39m\u001b[39m.\u001b[39mcommand_header \u001b[39m+\u001b[39m\\\n\u001b[0;32m   1317\u001b[0m     args_command \u001b[39m+\u001b[39m\\\n\u001b[0;32m   1318\u001b[0m     proto\u001b[39m.\u001b[39mEND_COMMAND_PART\n\u001b[1;32m-> 1320\u001b[0m answer \u001b[39m=\u001b[39m \u001b[39mself\u001b[39;49m\u001b[39m.\u001b[39;49mgateway_client\u001b[39m.\u001b[39;49msend_command(command)\n\u001b[0;32m   1321\u001b[0m return_value \u001b[39m=\u001b[39m get_return_value(\n\u001b[0;32m   1322\u001b[0m     answer, \u001b[39mself\u001b[39m\u001b[39m.\u001b[39mgateway_client, \u001b[39mself\u001b[39m\u001b[39m.\u001b[39mtarget_id, \u001b[39mself\u001b[39m\u001b[39m.\u001b[39mname)\n\u001b[0;32m   1324\u001b[0m \u001b[39mfor\u001b[39;00m temp_arg \u001b[39min\u001b[39;00m temp_args:\n",
      "File \u001b[1;32mc:\\Users\\vladm\\anaconda3\\lib\\site-packages\\py4j\\java_gateway.py:1036\u001b[0m, in \u001b[0;36mGatewayClient.send_command\u001b[1;34m(self, command, retry, binary)\u001b[0m\n\u001b[0;32m   1015\u001b[0m \u001b[39mdef\u001b[39;00m \u001b[39msend_command\u001b[39m(\u001b[39mself\u001b[39m, command, retry\u001b[39m=\u001b[39m\u001b[39mTrue\u001b[39;00m, binary\u001b[39m=\u001b[39m\u001b[39mFalse\u001b[39;00m):\n\u001b[0;32m   1016\u001b[0m     \u001b[39m\"\"\"Sends a command to the JVM. This method is not intended to be\u001b[39;00m\n\u001b[0;32m   1017\u001b[0m \u001b[39m       called directly by Py4J users. It is usually called by\u001b[39;00m\n\u001b[0;32m   1018\u001b[0m \u001b[39m       :class:`JavaMember` instances.\u001b[39;00m\n\u001b[1;32m   (...)\u001b[0m\n\u001b[0;32m   1034\u001b[0m \u001b[39m     if `binary` is `True`.\u001b[39;00m\n\u001b[0;32m   1035\u001b[0m \u001b[39m    \"\"\"\u001b[39;00m\n\u001b[1;32m-> 1036\u001b[0m     connection \u001b[39m=\u001b[39m \u001b[39mself\u001b[39;49m\u001b[39m.\u001b[39;49m_get_connection()\n\u001b[0;32m   1037\u001b[0m     \u001b[39mtry\u001b[39;00m:\n\u001b[0;32m   1038\u001b[0m         response \u001b[39m=\u001b[39m connection\u001b[39m.\u001b[39msend_command(command)\n",
      "File \u001b[1;32mc:\\Users\\vladm\\anaconda3\\lib\\site-packages\\py4j\\clientserver.py:281\u001b[0m, in \u001b[0;36mJavaClient._get_connection\u001b[1;34m(self)\u001b[0m\n\u001b[0;32m    278\u001b[0m     \u001b[39mpass\u001b[39;00m\n\u001b[0;32m    280\u001b[0m \u001b[39mif\u001b[39;00m connection \u001b[39mis\u001b[39;00m \u001b[39mNone\u001b[39;00m \u001b[39mor\u001b[39;00m connection\u001b[39m.\u001b[39msocket \u001b[39mis\u001b[39;00m \u001b[39mNone\u001b[39;00m:\n\u001b[1;32m--> 281\u001b[0m     connection \u001b[39m=\u001b[39m \u001b[39mself\u001b[39;49m\u001b[39m.\u001b[39;49m_create_new_connection()\n\u001b[0;32m    282\u001b[0m \u001b[39mreturn\u001b[39;00m connection\n",
      "File \u001b[1;32mc:\\Users\\vladm\\anaconda3\\lib\\site-packages\\py4j\\clientserver.py:288\u001b[0m, in \u001b[0;36mJavaClient._create_new_connection\u001b[1;34m(self)\u001b[0m\n\u001b[0;32m    284\u001b[0m \u001b[39mdef\u001b[39;00m \u001b[39m_create_new_connection\u001b[39m(\u001b[39mself\u001b[39m):\n\u001b[0;32m    285\u001b[0m     connection \u001b[39m=\u001b[39m ClientServerConnection(\n\u001b[0;32m    286\u001b[0m         \u001b[39mself\u001b[39m\u001b[39m.\u001b[39mjava_parameters, \u001b[39mself\u001b[39m\u001b[39m.\u001b[39mpython_parameters,\n\u001b[0;32m    287\u001b[0m         \u001b[39mself\u001b[39m\u001b[39m.\u001b[39mgateway_property, \u001b[39mself\u001b[39m)\n\u001b[1;32m--> 288\u001b[0m     connection\u001b[39m.\u001b[39;49mconnect_to_java_server()\n\u001b[0;32m    289\u001b[0m     \u001b[39mself\u001b[39m\u001b[39m.\u001b[39mset_thread_connection(connection)\n\u001b[0;32m    290\u001b[0m     \u001b[39mreturn\u001b[39;00m connection\n",
      "File \u001b[1;32mc:\\Users\\vladm\\anaconda3\\lib\\site-packages\\py4j\\clientserver.py:402\u001b[0m, in \u001b[0;36mClientServerConnection.connect_to_java_server\u001b[1;34m(self)\u001b[0m\n\u001b[0;32m    399\u001b[0m \u001b[39mif\u001b[39;00m \u001b[39mself\u001b[39m\u001b[39m.\u001b[39mssl_context:\n\u001b[0;32m    400\u001b[0m     \u001b[39mself\u001b[39m\u001b[39m.\u001b[39msocket \u001b[39m=\u001b[39m \u001b[39mself\u001b[39m\u001b[39m.\u001b[39mssl_context\u001b[39m.\u001b[39mwrap_socket(\n\u001b[0;32m    401\u001b[0m         \u001b[39mself\u001b[39m\u001b[39m.\u001b[39msocket, server_hostname\u001b[39m=\u001b[39m\u001b[39mself\u001b[39m\u001b[39m.\u001b[39mjava_address)\n\u001b[1;32m--> 402\u001b[0m \u001b[39mself\u001b[39;49m\u001b[39m.\u001b[39;49msocket\u001b[39m.\u001b[39;49mconnect((\u001b[39mself\u001b[39;49m\u001b[39m.\u001b[39;49mjava_address, \u001b[39mself\u001b[39;49m\u001b[39m.\u001b[39;49mjava_port))\n\u001b[0;32m    403\u001b[0m \u001b[39mself\u001b[39m\u001b[39m.\u001b[39mstream \u001b[39m=\u001b[39m \u001b[39mself\u001b[39m\u001b[39m.\u001b[39msocket\u001b[39m.\u001b[39mmakefile(\u001b[39m\"\u001b[39m\u001b[39mrb\u001b[39m\u001b[39m\"\u001b[39m)\n\u001b[0;32m    404\u001b[0m \u001b[39mself\u001b[39m\u001b[39m.\u001b[39mis_connected \u001b[39m=\u001b[39m \u001b[39mTrue\u001b[39;00m\n",
      "\u001b[1;31mConnectionRefusedError\u001b[0m: [WinError 10061] No connection could be made because the target machine actively refused it"
     ]
    }
   ],
   "source": [
    "df.show(5)"
   ]
  },
  {
   "cell_type": "code",
   "execution_count": 38,
   "metadata": {},
   "outputs": [
    {
     "name": "stdout",
     "output_type": "stream",
     "text": [
      "+------+-------------------+--------+--------------+---------+--------------+--------------------+--------------+--------------+-----------+---+-------+----+------------+-----------+----+-----------+\n",
      "|app_id|               amnt|currency|operation_kind|card_type|operation_type|operation_type_group|ecommerce_flag|payment_system|income_flag|mcc|country|city|mcc_category|day_of_week|hour|days_before|\n",
      "+------+-------------------+--------+--------------+---------+--------------+--------------------+--------------+--------------+-----------+---+-------+----+------------+-----------+----+-----------+\n",
      "|     0| 0.4654254330729043|       1|             4|       98|             4|                   2|             3|             7|          3|  2|      1|  37|           2|          4|  19|        351|\n",
      "|     0|                0.0|       1|             2|       98|             7|                   1|             3|             7|          3|  2|      1|  49|           2|          4|  20|        351|\n",
      "|     0| 0.5211518246354306|       1|             2|       98|             3|                   1|             3|             7|          3|  2|      1|  37|           2|          4|  20|        351|\n",
      "|     0|0.35607835388631826|       1|             1|        5|             2|                   1|             3|             7|          3| 10|      1|  49|           7|          2|   0|        348|\n",
      "|     0|                0.0|       1|             2|       98|             7|                   1|             3|             7|          3|  2|      1|  49|           2|          4|  16|        337|\n",
      "|     0| 0.5168336566977262|       1|             2|       98|             3|                   1|             3|             7|          3|  2|      1|  37|           2|          4|  16|        337|\n",
      "|     0|0.25897237458612055|       1|             2|       98|             3|                   1|             1|             6|          1|  2|      1|   2|           2|          2|  18|        334|\n",
      "|     0| 0.2975890792412704|       1|             2|       98|             3|                   1|             1|             6|          1|  2|      1|   2|           2|          2|  19|        327|\n",
      "|     0|0.35607835388631826|       1|             1|        5|             2|                   1|             1|             2|          1| 10|      1|  49|           7|          7|  13|        326|\n",
      "|     0| 0.3335471947477638|       1|             1|        5|             2|                   1|             1|             2|          1| 10|      1|  49|           7|          7|  13|        326|\n",
      "|     0|0.47326619024995087|       1|             2|       98|             3|                   1|             1|             6|          1|  2|      1|   2|           2|          2|  15|        320|\n",
      "|     0| 0.4143443875134992|       1|             1|        5|             2|                   1|             1|             2|          1| 10|      1|  49|           7|          5|  14|        317|\n",
      "|     0|0.25897237458612055|       1|             2|       98|             3|                   1|             1|             6|          1|  2|      1|   2|           2|          3|  20|        315|\n",
      "|     0| 0.4654254330729043|       1|             2|       98|             7|                   1|             1|             1|          1|  2|      1|  49|           2|          6|  15|        304|\n",
      "|     0| 0.4968216419774925|       1|             2|       98|             3|                   1|             1|             6|          1|  2|      1|   2|           2|          5|  19|        303|\n",
      "|     0|0.26427006943118053|       1|             3|       98|             5|                   1|             1|             6|          1|  9|      1|   1|           2|          5|  21|        303|\n",
      "|     0| 0.2975890792412704|       1|             2|       98|             3|                   1|             1|             6|          1|  2|      1|   2|           2|          2|  19|        299|\n",
      "|     0|0.22047578925700645|       1|             1|        5|             2|                   1|             1|             2|          1|  1|      1|  49|           1|          4|   7|        295|\n",
      "|     0| 0.3363445046218684|       1|             2|        5|             3|                   1|             1|             6|          1|  2|      1|   2|           2|          4|  19|        295|\n",
      "|     0|0.49519527420040704|       1|             2|       98|             3|                   1|             1|             6|          1|  2|      1|   2|           2|          4|  13|        288|\n",
      "+------+-------------------+--------+--------------+---------+--------------+--------------------+--------------+--------------+-----------+---+-------+----+------------+-----------+----+-----------+\n",
      "only showing top 20 rows\n",
      "\n"
     ]
    }
   ],
   "source": [
    "df[\n",
    " 'app_id',\n",
    " 'amnt',\n",
    " 'currency',\n",
    " 'operation_kind',\n",
    " 'card_type',\n",
    " 'operation_type',\n",
    " 'operation_type_group',\n",
    " 'ecommerce_flag',\n",
    " 'payment_system',\n",
    " 'income_flag',\n",
    " 'mcc',\n",
    " 'country',\n",
    " 'city',\n",
    " 'mcc_category',\n",
    " 'day_of_week',\n",
    " 'hour',\n",
    " 'days_before',\n",
    "#  'weekofyear',\n",
    "#  'hour_diff',\n",
    "#  'transaction_number',\n",
    "].show()"
   ]
  },
  {
   "cell_type": "markdown",
   "metadata": {},
   "source": [
    "### Типы колонок"
   ]
  },
  {
   "cell_type": "code",
   "execution_count": 39,
   "metadata": {},
   "outputs": [
    {
     "name": "stdout",
     "output_type": "stream",
     "text": [
      "root\n",
      " |-- app_id: integer (nullable = true)\n",
      " |-- amnt: double (nullable = true)\n",
      " |-- currency: integer (nullable = true)\n",
      " |-- operation_kind: integer (nullable = true)\n",
      " |-- card_type: integer (nullable = true)\n",
      " |-- operation_type: integer (nullable = true)\n",
      " |-- operation_type_group: integer (nullable = true)\n",
      " |-- ecommerce_flag: integer (nullable = true)\n",
      " |-- payment_system: integer (nullable = true)\n",
      " |-- income_flag: integer (nullable = true)\n",
      " |-- mcc: integer (nullable = true)\n",
      " |-- country: integer (nullable = true)\n",
      " |-- city: integer (nullable = true)\n",
      " |-- mcc_category: integer (nullable = true)\n",
      " |-- day_of_week: integer (nullable = true)\n",
      " |-- hour: integer (nullable = true)\n",
      " |-- days_before: integer (nullable = true)\n",
      " |-- weekofyear: integer (nullable = true)\n",
      " |-- hour_diff: long (nullable = true)\n",
      " |-- transaction_number: integer (nullable = true)\n",
      " |-- __index_level_0__: long (nullable = true)\n",
      "\n"
     ]
    }
   ],
   "source": [
    "df.printSchema()"
   ]
  },
  {
   "cell_type": "markdown",
   "metadata": {},
   "source": [
    "* app_id - Идентификатор заявки. заявки пронумерованы так, что более поздним заявкам соответствует более поздняя дата\n",
    "* amnt - Нормированная сумма транзакции. 0.0 - соответствует пропускам\n",
    "* currency - Идентификатор валюты транзакции\n",
    "* operation_kind - Идентификатор типа транзакции\n",
    "* card_type - Уникальный идентификатор типа карты\n",
    "* operation_type - Идентификатор типа операции по пластиковой карте\n",
    "* operationtypegroup - Идентификатор группы карточных операций, например, дебетовая карта или кредитная карта\n",
    "* ecommerce_flag - Признак электронной коммерции\n",
    "* payment_system - Идентификатор типа платежной системы\n",
    "* income_flag - Признак списания/внесения денежных средств на карту\n",
    "* mcc - Уникальный идентификатор типа торговой точки\n",
    "* country - Идентификатор страны транзакции\n",
    "* city - Идентификатор города транзакции\n",
    "* mcc_category - Идентификатор категории магазина транзакции\n",
    "* dayofweek - День недели, когда транзакция была совершена\n",
    "* hour - Час, когда транзакция была совершена\n",
    "* days_before - Количество дней до даты выдачи кредита\n",
    "* weekofyear - Номер недели в году, когда транзакция была совершена\n",
    "* hour_diff - Количество часов с момента прошлой транзакции для данного клиента\n",
    "* transaction_number - Порядковый номер транзакции клиента"
   ]
  },
  {
   "cell_type": "code",
   "execution_count": 40,
   "metadata": {},
   "outputs": [
    {
     "data": {
      "text/plain": [
       "['app_id',\n",
       " 'amnt',\n",
       " 'currency',\n",
       " 'operation_kind',\n",
       " 'card_type',\n",
       " 'operation_type',\n",
       " 'operation_type_group',\n",
       " 'ecommerce_flag',\n",
       " 'payment_system',\n",
       " 'income_flag',\n",
       " 'mcc',\n",
       " 'country',\n",
       " 'city',\n",
       " 'mcc_category',\n",
       " 'day_of_week',\n",
       " 'hour',\n",
       " 'days_before',\n",
       " 'weekofyear',\n",
       " 'hour_diff',\n",
       " 'transaction_number',\n",
       " '__index_level_0__']"
      ]
     },
     "execution_count": 40,
     "metadata": {},
     "output_type": "execute_result"
    }
   ],
   "source": [
    "df.columns"
   ]
  },
  {
   "cell_type": "code",
   "execution_count": 71,
   "metadata": {},
   "outputs": [
    {
     "name": "stdout",
     "output_type": "stream",
     "text": [
      "+-------+------------------+-------------------+-----------------+------------------+------------------+------------------+--------------------+------------------+------------------+-------------------+\n",
      "|summary|            app_id|               amnt|         currency|    operation_kind|         card_type|    operation_type|operation_type_group|    ecommerce_flag|    payment_system|        income_flag|\n",
      "+-------+------------------+-------------------+-----------------+------------------+------------------+------------------+--------------------+------------------+------------------+-------------------+\n",
      "|  count|           5408648|            5408648|          5408648|           5408648|           5408648|           5408648|             5408648|           5408648|           5408648|            5408648|\n",
      "|   mean|11967.004015791008| 0.3731903180912123|1.102896509441916| 1.432611624938432|53.709856696165104|2.6666381321173054|  1.0809721764108147|1.1010409625473871|2.1071733638424983| 1.0823603236890253|\n",
      "| stddev| 6861.200472507923|0.09935179143215543| 0.81092170778488|0.9207239443748066| 48.74927214981967|2.8111520521070346|  0.2779329398737516| 0.301421630375407|1.2630178988421994|0.27495730597398194|\n",
      "|    min|                 0|                0.0|                1|                 1|                 1|                 1|                   1|                 1|                 1|                  1|\n",
      "|    max|             23646| 0.9652161166432719|               11|                 7|               175|                22|                   3|                 3|                 7|                  3|\n",
      "+-------+------------------+-------------------+-----------------+------------------+------------------+------------------+--------------------+------------------+------------------+-------------------+\n",
      "\n"
     ]
    }
   ],
   "source": [
    "df['app_id',\n",
    " 'amnt',\n",
    " 'currency',\n",
    " 'operation_kind',\n",
    " 'card_type',\n",
    " 'operation_type',\n",
    " 'operation_type_group',\n",
    " 'ecommerce_flag',\n",
    " 'payment_system',\n",
    " 'income_flag'].describe().show()"
   ]
  },
  {
   "cell_type": "code",
   "execution_count": 42,
   "metadata": {},
   "outputs": [
    {
     "name": "stdout",
     "output_type": "stream",
     "text": [
      "+-------+------------------+------------------+------------------+------------------+------------------+-----------------+------------------+------------------+------------------+------------------+\n",
      "|summary|               mcc|           country|              city|      mcc_category|       day_of_week|             hour|       days_before|        weekofyear|         hour_diff|transaction_number|\n",
      "+-------+------------------+------------------+------------------+------------------+------------------+-----------------+------------------+------------------+------------------+------------------+\n",
      "|  count|           5408648|           5408648|           5408648|           5408648|           5408648|          5408648|           5408648|           5408648|           5408648|           5408648|\n",
      "|   mean|12.961375005361784|1.5631464646987565| 20.34707878937583|4.4080431930493535|3.8609362265764013|14.16820968937154|168.13116826977833|25.945357693826626|31.924373706700823|270.64004276114844|\n",
      "| stddev|21.278957324247546|2.8294175781243123|34.776122740867685| 4.543976625869378|1.9970891413330527|4.836613144637747|102.24494766926824|14.742904160346711| 95.14842540694244|302.13034267137175|\n",
      "|    min|                 1|                 1|                 1|                 1|                 1|                0|                 1|                 1|                -1|                 1|\n",
      "|    max|               108|                24|               163|                28|                 7|               23|               359|                53|              8011|              4183|\n",
      "+-------+------------------+------------------+------------------+------------------+------------------+-----------------+------------------+------------------+------------------+------------------+\n",
      "\n"
     ]
    }
   ],
   "source": [
    "df['mcc',\n",
    " 'country',\n",
    " 'city',\n",
    " 'mcc_category',\n",
    " 'day_of_week',\n",
    " 'hour',\n",
    " 'days_before',\n",
    " 'weekofyear',\n",
    " 'hour_diff',\n",
    " 'transaction_number',\n",
    " ].describe().show()\n",
    "#  '__index_level_0__'"
   ]
  },
  {
   "cell_type": "code",
   "execution_count": 81,
   "metadata": {},
   "outputs": [],
   "source": [
    "df_pandas = pd.read_parquet(r\"alfabattle2_train_transactions_contest\\train_transactions_contest\\part_000_0_to_23646.parquet\", engine='pyarrow') "
   ]
  },
  {
   "cell_type": "code",
   "execution_count": 83,
   "metadata": {},
   "outputs": [
    {
     "data": {
      "text/html": [
       "<div>\n",
       "<style scoped>\n",
       "    .dataframe tbody tr th:only-of-type {\n",
       "        vertical-align: middle;\n",
       "    }\n",
       "\n",
       "    .dataframe tbody tr th {\n",
       "        vertical-align: top;\n",
       "    }\n",
       "\n",
       "    .dataframe thead th {\n",
       "        text-align: right;\n",
       "    }\n",
       "</style>\n",
       "<table border=\"1\" class=\"dataframe\">\n",
       "  <thead>\n",
       "    <tr style=\"text-align: right;\">\n",
       "      <th></th>\n",
       "      <th>0</th>\n",
       "      <th>1</th>\n",
       "      <th>2</th>\n",
       "      <th>3</th>\n",
       "      <th>4</th>\n",
       "    </tr>\n",
       "  </thead>\n",
       "  <tbody>\n",
       "    <tr>\n",
       "      <th>summary</th>\n",
       "      <td>count</td>\n",
       "      <td>mean</td>\n",
       "      <td>stddev</td>\n",
       "      <td>min</td>\n",
       "      <td>max</td>\n",
       "    </tr>\n",
       "    <tr>\n",
       "      <th>app_id</th>\n",
       "      <td>5408648</td>\n",
       "      <td>11967.004015791008</td>\n",
       "      <td>6861.200472507923</td>\n",
       "      <td>0</td>\n",
       "      <td>23646</td>\n",
       "    </tr>\n",
       "    <tr>\n",
       "      <th>amnt</th>\n",
       "      <td>5408648</td>\n",
       "      <td>0.3731903180912123</td>\n",
       "      <td>0.09935179143215543</td>\n",
       "      <td>0.0</td>\n",
       "      <td>0.9652161166432719</td>\n",
       "    </tr>\n",
       "    <tr>\n",
       "      <th>currency</th>\n",
       "      <td>5408648</td>\n",
       "      <td>1.102896509441916</td>\n",
       "      <td>0.81092170778488</td>\n",
       "      <td>1</td>\n",
       "      <td>11</td>\n",
       "    </tr>\n",
       "    <tr>\n",
       "      <th>operation_kind</th>\n",
       "      <td>5408648</td>\n",
       "      <td>1.432611624938432</td>\n",
       "      <td>0.9207239443748066</td>\n",
       "      <td>1</td>\n",
       "      <td>7</td>\n",
       "    </tr>\n",
       "    <tr>\n",
       "      <th>card_type</th>\n",
       "      <td>5408648</td>\n",
       "      <td>53.709856696165104</td>\n",
       "      <td>48.74927214981967</td>\n",
       "      <td>1</td>\n",
       "      <td>175</td>\n",
       "    </tr>\n",
       "    <tr>\n",
       "      <th>operation_type</th>\n",
       "      <td>5408648</td>\n",
       "      <td>2.6666381321173054</td>\n",
       "      <td>2.8111520521070346</td>\n",
       "      <td>1</td>\n",
       "      <td>22</td>\n",
       "    </tr>\n",
       "    <tr>\n",
       "      <th>operation_type_group</th>\n",
       "      <td>5408648</td>\n",
       "      <td>1.0809721764108147</td>\n",
       "      <td>0.2779329398737516</td>\n",
       "      <td>1</td>\n",
       "      <td>3</td>\n",
       "    </tr>\n",
       "    <tr>\n",
       "      <th>ecommerce_flag</th>\n",
       "      <td>5408648</td>\n",
       "      <td>1.1010409625473871</td>\n",
       "      <td>0.301421630375407</td>\n",
       "      <td>1</td>\n",
       "      <td>3</td>\n",
       "    </tr>\n",
       "    <tr>\n",
       "      <th>payment_system</th>\n",
       "      <td>5408648</td>\n",
       "      <td>2.1071733638424983</td>\n",
       "      <td>1.2630178988421994</td>\n",
       "      <td>1</td>\n",
       "      <td>7</td>\n",
       "    </tr>\n",
       "    <tr>\n",
       "      <th>income_flag</th>\n",
       "      <td>5408648</td>\n",
       "      <td>1.0823603236890253</td>\n",
       "      <td>0.27495730597398194</td>\n",
       "      <td>1</td>\n",
       "      <td>3</td>\n",
       "    </tr>\n",
       "    <tr>\n",
       "      <th>mcc</th>\n",
       "      <td>5408648</td>\n",
       "      <td>12.961375005361784</td>\n",
       "      <td>21.278957324247546</td>\n",
       "      <td>1</td>\n",
       "      <td>108</td>\n",
       "    </tr>\n",
       "    <tr>\n",
       "      <th>country</th>\n",
       "      <td>5408648</td>\n",
       "      <td>1.5631464646987565</td>\n",
       "      <td>2.8294175781243123</td>\n",
       "      <td>1</td>\n",
       "      <td>24</td>\n",
       "    </tr>\n",
       "    <tr>\n",
       "      <th>city</th>\n",
       "      <td>5408648</td>\n",
       "      <td>20.34707878937583</td>\n",
       "      <td>34.776122740867685</td>\n",
       "      <td>1</td>\n",
       "      <td>163</td>\n",
       "    </tr>\n",
       "    <tr>\n",
       "      <th>mcc_category</th>\n",
       "      <td>5408648</td>\n",
       "      <td>4.4080431930493535</td>\n",
       "      <td>4.543976625869378</td>\n",
       "      <td>1</td>\n",
       "      <td>28</td>\n",
       "    </tr>\n",
       "    <tr>\n",
       "      <th>day_of_week</th>\n",
       "      <td>5408648</td>\n",
       "      <td>3.8609362265764013</td>\n",
       "      <td>1.9970891413330527</td>\n",
       "      <td>1</td>\n",
       "      <td>7</td>\n",
       "    </tr>\n",
       "    <tr>\n",
       "      <th>hour</th>\n",
       "      <td>5408648</td>\n",
       "      <td>14.16820968937154</td>\n",
       "      <td>4.836613144637747</td>\n",
       "      <td>0</td>\n",
       "      <td>23</td>\n",
       "    </tr>\n",
       "    <tr>\n",
       "      <th>days_before</th>\n",
       "      <td>5408648</td>\n",
       "      <td>168.13116826977833</td>\n",
       "      <td>102.24494766926824</td>\n",
       "      <td>1</td>\n",
       "      <td>359</td>\n",
       "    </tr>\n",
       "    <tr>\n",
       "      <th>weekofyear</th>\n",
       "      <td>5408648</td>\n",
       "      <td>25.945357693826626</td>\n",
       "      <td>14.742904160346711</td>\n",
       "      <td>1</td>\n",
       "      <td>53</td>\n",
       "    </tr>\n",
       "    <tr>\n",
       "      <th>hour_diff</th>\n",
       "      <td>5408648</td>\n",
       "      <td>31.924373706700823</td>\n",
       "      <td>95.14842540694244</td>\n",
       "      <td>-1</td>\n",
       "      <td>8011</td>\n",
       "    </tr>\n",
       "    <tr>\n",
       "      <th>transaction_number</th>\n",
       "      <td>5408648</td>\n",
       "      <td>270.64004276114844</td>\n",
       "      <td>302.13034267137175</td>\n",
       "      <td>1</td>\n",
       "      <td>4183</td>\n",
       "    </tr>\n",
       "    <tr>\n",
       "      <th>__index_level_0__</th>\n",
       "      <td>5408648</td>\n",
       "      <td>54241.644452181026</td>\n",
       "      <td>31494.05433620074</td>\n",
       "      <td>0</td>\n",
       "      <td>122409</td>\n",
       "    </tr>\n",
       "  </tbody>\n",
       "</table>\n",
       "</div>"
      ],
      "text/plain": [
       "                            0                   1                    2    3  \\\n",
       "summary                 count                mean               stddev  min   \n",
       "app_id                5408648  11967.004015791008    6861.200472507923    0   \n",
       "amnt                  5408648  0.3731903180912123  0.09935179143215543  0.0   \n",
       "currency              5408648   1.102896509441916     0.81092170778488    1   \n",
       "operation_kind        5408648   1.432611624938432   0.9207239443748066    1   \n",
       "card_type             5408648  53.709856696165104    48.74927214981967    1   \n",
       "operation_type        5408648  2.6666381321173054   2.8111520521070346    1   \n",
       "operation_type_group  5408648  1.0809721764108147   0.2779329398737516    1   \n",
       "ecommerce_flag        5408648  1.1010409625473871    0.301421630375407    1   \n",
       "payment_system        5408648  2.1071733638424983   1.2630178988421994    1   \n",
       "income_flag           5408648  1.0823603236890253  0.27495730597398194    1   \n",
       "mcc                   5408648  12.961375005361784   21.278957324247546    1   \n",
       "country               5408648  1.5631464646987565   2.8294175781243123    1   \n",
       "city                  5408648   20.34707878937583   34.776122740867685    1   \n",
       "mcc_category          5408648  4.4080431930493535    4.543976625869378    1   \n",
       "day_of_week           5408648  3.8609362265764013   1.9970891413330527    1   \n",
       "hour                  5408648   14.16820968937154    4.836613144637747    0   \n",
       "days_before           5408648  168.13116826977833   102.24494766926824    1   \n",
       "weekofyear            5408648  25.945357693826626   14.742904160346711    1   \n",
       "hour_diff             5408648  31.924373706700823    95.14842540694244   -1   \n",
       "transaction_number    5408648  270.64004276114844   302.13034267137175    1   \n",
       "__index_level_0__     5408648  54241.644452181026    31494.05433620074    0   \n",
       "\n",
       "                                       4  \n",
       "summary                              max  \n",
       "app_id                             23646  \n",
       "amnt                  0.9652161166432719  \n",
       "currency                              11  \n",
       "operation_kind                         7  \n",
       "card_type                            175  \n",
       "operation_type                        22  \n",
       "operation_type_group                   3  \n",
       "ecommerce_flag                         3  \n",
       "payment_system                         7  \n",
       "income_flag                            3  \n",
       "mcc                                  108  \n",
       "country                               24  \n",
       "city                                 163  \n",
       "mcc_category                          28  \n",
       "day_of_week                            7  \n",
       "hour                                  23  \n",
       "days_before                          359  \n",
       "weekofyear                            53  \n",
       "hour_diff                           8011  \n",
       "transaction_number                  4183  \n",
       "__index_level_0__                 122409  "
      ]
     },
     "execution_count": 83,
     "metadata": {},
     "output_type": "execute_result"
    }
   ],
   "source": [
    "df.describe().toPandas().transpose()"
   ]
  },
  {
   "cell_type": "markdown",
   "metadata": {},
   "source": [
    "### Ищем пропуски данных"
   ]
  },
  {
   "cell_type": "code",
   "execution_count": 88,
   "metadata": {},
   "outputs": [],
   "source": [
    "from pyspark.sql.functions import col,isnan,when,count"
   ]
  },
  {
   "cell_type": "code",
   "execution_count": 100,
   "metadata": {},
   "outputs": [
    {
     "data": {
      "text/html": [
       "<div>\n",
       "<style scoped>\n",
       "    .dataframe tbody tr th:only-of-type {\n",
       "        vertical-align: middle;\n",
       "    }\n",
       "\n",
       "    .dataframe tbody tr th {\n",
       "        vertical-align: top;\n",
       "    }\n",
       "\n",
       "    .dataframe thead th {\n",
       "        text-align: right;\n",
       "    }\n",
       "</style>\n",
       "<table border=\"1\" class=\"dataframe\">\n",
       "  <thead>\n",
       "    <tr style=\"text-align: right;\">\n",
       "      <th></th>\n",
       "      <th>0</th>\n",
       "    </tr>\n",
       "  </thead>\n",
       "  <tbody>\n",
       "    <tr>\n",
       "      <th>app_id</th>\n",
       "      <td>0</td>\n",
       "    </tr>\n",
       "    <tr>\n",
       "      <th>amnt</th>\n",
       "      <td>0</td>\n",
       "    </tr>\n",
       "    <tr>\n",
       "      <th>currency</th>\n",
       "      <td>0</td>\n",
       "    </tr>\n",
       "    <tr>\n",
       "      <th>operation_kind</th>\n",
       "      <td>0</td>\n",
       "    </tr>\n",
       "    <tr>\n",
       "      <th>card_type</th>\n",
       "      <td>0</td>\n",
       "    </tr>\n",
       "    <tr>\n",
       "      <th>operation_type</th>\n",
       "      <td>0</td>\n",
       "    </tr>\n",
       "    <tr>\n",
       "      <th>operation_type_group</th>\n",
       "      <td>0</td>\n",
       "    </tr>\n",
       "    <tr>\n",
       "      <th>ecommerce_flag</th>\n",
       "      <td>0</td>\n",
       "    </tr>\n",
       "    <tr>\n",
       "      <th>payment_system</th>\n",
       "      <td>0</td>\n",
       "    </tr>\n",
       "    <tr>\n",
       "      <th>income_flag</th>\n",
       "      <td>0</td>\n",
       "    </tr>\n",
       "    <tr>\n",
       "      <th>mcc</th>\n",
       "      <td>0</td>\n",
       "    </tr>\n",
       "    <tr>\n",
       "      <th>country</th>\n",
       "      <td>0</td>\n",
       "    </tr>\n",
       "    <tr>\n",
       "      <th>city</th>\n",
       "      <td>0</td>\n",
       "    </tr>\n",
       "    <tr>\n",
       "      <th>mcc_category</th>\n",
       "      <td>0</td>\n",
       "    </tr>\n",
       "    <tr>\n",
       "      <th>day_of_week</th>\n",
       "      <td>0</td>\n",
       "    </tr>\n",
       "    <tr>\n",
       "      <th>hour</th>\n",
       "      <td>0</td>\n",
       "    </tr>\n",
       "    <tr>\n",
       "      <th>days_before</th>\n",
       "      <td>0</td>\n",
       "    </tr>\n",
       "    <tr>\n",
       "      <th>weekofyear</th>\n",
       "      <td>0</td>\n",
       "    </tr>\n",
       "    <tr>\n",
       "      <th>hour_diff</th>\n",
       "      <td>0</td>\n",
       "    </tr>\n",
       "    <tr>\n",
       "      <th>transaction_number</th>\n",
       "      <td>0</td>\n",
       "    </tr>\n",
       "    <tr>\n",
       "      <th>__index_level_0__</th>\n",
       "      <td>0</td>\n",
       "    </tr>\n",
       "  </tbody>\n",
       "</table>\n",
       "</div>"
      ],
      "text/plain": [
       "                      0\n",
       "app_id                0\n",
       "amnt                  0\n",
       "currency              0\n",
       "operation_kind        0\n",
       "card_type             0\n",
       "operation_type        0\n",
       "operation_type_group  0\n",
       "ecommerce_flag        0\n",
       "payment_system        0\n",
       "income_flag           0\n",
       "mcc                   0\n",
       "country               0\n",
       "city                  0\n",
       "mcc_category          0\n",
       "day_of_week           0\n",
       "hour                  0\n",
       "days_before           0\n",
       "weekofyear            0\n",
       "hour_diff             0\n",
       "transaction_number    0\n",
       "__index_level_0__     0"
      ]
     },
     "execution_count": 100,
     "metadata": {},
     "output_type": "execute_result"
    }
   ],
   "source": [
    "df.select([count(when(col(c).contains('None') | \\\n",
    "                            col(c).contains('NULL') | \\\n",
    "                            (col(c) == '' ) | \\\n",
    "                            col(c).isNull() | \\\n",
    "                            isnan(c), c \n",
    "                           )).alias(c)\n",
    "                    for c in df.columns]).toPandas().transpose()"
   ]
  },
  {
   "cell_type": "markdown",
   "metadata": {},
   "source": [
    "### Уникальные значения"
   ]
  },
  {
   "cell_type": "code",
   "execution_count": 115,
   "metadata": {},
   "outputs": [],
   "source": [
    "categorical_columns = [\"currency\",\"operation_kind\", \"card_type\", \"operation_type\", \"operation_type_group\", \"ecommerce_flag\", \"payment_system\", \"income_flag\", \"mcc\", \"country\", \"city\", \"mcc_category\"]"
   ]
  },
  {
   "cell_type": "code",
   "execution_count": 116,
   "metadata": {},
   "outputs": [
    {
     "name": "stdout",
     "output_type": "stream",
     "text": [
      "+------------------------+\n",
      "|count(DISTINCT currency)|\n",
      "+------------------------+\n",
      "|                      11|\n",
      "+------------------------+\n",
      "\n",
      "None\n",
      "+------------------------------+\n",
      "|count(DISTINCT operation_kind)|\n",
      "+------------------------------+\n",
      "|                             7|\n",
      "+------------------------------+\n",
      "\n",
      "None\n",
      "+-------------------------+\n",
      "|count(DISTINCT card_type)|\n",
      "+-------------------------+\n",
      "|                      121|\n",
      "+-------------------------+\n",
      "\n",
      "None\n",
      "+------------------------------+\n",
      "|count(DISTINCT operation_type)|\n",
      "+------------------------------+\n",
      "|                            20|\n",
      "+------------------------------+\n",
      "\n",
      "None\n",
      "+------------------------------------+\n",
      "|count(DISTINCT operation_type_group)|\n",
      "+------------------------------------+\n",
      "|                                   3|\n",
      "+------------------------------------+\n",
      "\n",
      "None\n",
      "+------------------------------+\n",
      "|count(DISTINCT ecommerce_flag)|\n",
      "+------------------------------+\n",
      "|                             3|\n",
      "+------------------------------+\n",
      "\n",
      "None\n",
      "+------------------------------+\n",
      "|count(DISTINCT payment_system)|\n",
      "+------------------------------+\n",
      "|                             6|\n",
      "+------------------------------+\n",
      "\n",
      "None\n",
      "+---------------------------+\n",
      "|count(DISTINCT income_flag)|\n",
      "+---------------------------+\n",
      "|                          3|\n",
      "+---------------------------+\n",
      "\n",
      "None\n",
      "+-------------------+\n",
      "|count(DISTINCT mcc)|\n",
      "+-------------------+\n",
      "|                108|\n",
      "+-------------------+\n",
      "\n",
      "None\n",
      "+-----------------------+\n",
      "|count(DISTINCT country)|\n",
      "+-----------------------+\n",
      "|                     24|\n",
      "+-----------------------+\n",
      "\n",
      "None\n",
      "+--------------------+\n",
      "|count(DISTINCT city)|\n",
      "+--------------------+\n",
      "|                 161|\n",
      "+--------------------+\n",
      "\n",
      "None\n",
      "+----------------------------+\n",
      "|count(DISTINCT mcc_category)|\n",
      "+----------------------------+\n",
      "|                          28|\n",
      "+----------------------------+\n",
      "\n",
      "None\n"
     ]
    }
   ],
   "source": [
    "for i in range(len(categorical_columns)):\n",
    "    print(df.select(F.countDistinct(categorical_columns[i])).show())"
   ]
  },
  {
   "cell_type": "code",
   "execution_count": 124,
   "metadata": {},
   "outputs": [
    {
     "name": "stdout",
     "output_type": "stream",
     "text": [
      "+--------+\n",
      "|currency|\n",
      "+--------+\n",
      "|       1|\n",
      "|       6|\n",
      "|       3|\n",
      "|       5|\n",
      "|       9|\n",
      "|       4|\n",
      "|       8|\n",
      "|       7|\n",
      "|      10|\n",
      "|      11|\n",
      "|       2|\n",
      "+--------+\n",
      "\n",
      "None\n",
      "+--------------+\n",
      "|operation_kind|\n",
      "+--------------+\n",
      "|             1|\n",
      "|             6|\n",
      "|             3|\n",
      "|             5|\n",
      "|             4|\n",
      "|             7|\n",
      "|             2|\n",
      "+--------------+\n",
      "\n",
      "None\n",
      "+---------+\n",
      "|card_type|\n",
      "+---------+\n",
      "|      148|\n",
      "|       31|\n",
      "|       85|\n",
      "|      133|\n",
      "|      155|\n",
      "|       34|\n",
      "|      101|\n",
      "|      115|\n",
      "|      126|\n",
      "|       81|\n",
      "|       28|\n",
      "|       27|\n",
      "|       26|\n",
      "|       44|\n",
      "|      159|\n",
      "|      103|\n",
      "|       12|\n",
      "|       22|\n",
      "|      128|\n",
      "|      122|\n",
      "+---------+\n",
      "only showing top 20 rows\n",
      "\n",
      "None\n",
      "+--------------+\n",
      "|operation_type|\n",
      "+--------------+\n",
      "|            22|\n",
      "|             1|\n",
      "|            13|\n",
      "|            16|\n",
      "|             6|\n",
      "|             3|\n",
      "|            20|\n",
      "|             5|\n",
      "|            19|\n",
      "|            15|\n",
      "|             9|\n",
      "|            17|\n",
      "|             4|\n",
      "|             8|\n",
      "|             7|\n",
      "|            10|\n",
      "|            21|\n",
      "|            11|\n",
      "|            14|\n",
      "|             2|\n",
      "+--------------+\n",
      "\n",
      "None\n",
      "+--------------------+\n",
      "|operation_type_group|\n",
      "+--------------------+\n",
      "|                   1|\n",
      "|                   3|\n",
      "|                   2|\n",
      "+--------------------+\n",
      "\n",
      "None\n",
      "+--------------+\n",
      "|ecommerce_flag|\n",
      "+--------------+\n",
      "|             1|\n",
      "|             3|\n",
      "|             2|\n",
      "+--------------+\n",
      "\n",
      "None\n",
      "+--------------+\n",
      "|payment_system|\n",
      "+--------------+\n",
      "|             1|\n",
      "|             6|\n",
      "|             3|\n",
      "|             4|\n",
      "|             7|\n",
      "|             2|\n",
      "+--------------+\n",
      "\n",
      "None\n",
      "+-----------+\n",
      "|income_flag|\n",
      "+-----------+\n",
      "|          1|\n",
      "|          3|\n",
      "|          2|\n",
      "+-----------+\n",
      "\n",
      "None\n",
      "+---+\n",
      "|mcc|\n",
      "+---+\n",
      "| 31|\n",
      "| 85|\n",
      "| 65|\n",
      "| 53|\n",
      "| 78|\n",
      "|108|\n",
      "| 34|\n",
      "|101|\n",
      "| 81|\n",
      "| 28|\n",
      "| 76|\n",
      "| 26|\n",
      "| 27|\n",
      "| 44|\n",
      "|103|\n",
      "| 12|\n",
      "| 91|\n",
      "| 22|\n",
      "| 93|\n",
      "| 47|\n",
      "+---+\n",
      "only showing top 20 rows\n",
      "\n",
      "None\n",
      "+-------+\n",
      "|country|\n",
      "+-------+\n",
      "|     12|\n",
      "|     22|\n",
      "|      1|\n",
      "|     13|\n",
      "|      6|\n",
      "|     16|\n",
      "|      3|\n",
      "|     20|\n",
      "|      5|\n",
      "|     19|\n",
      "|     15|\n",
      "|      9|\n",
      "|     17|\n",
      "|      4|\n",
      "|      8|\n",
      "|     23|\n",
      "|      7|\n",
      "|     10|\n",
      "|     24|\n",
      "|     21|\n",
      "+-------+\n",
      "only showing top 20 rows\n",
      "\n",
      "None\n",
      "+----+\n",
      "|city|\n",
      "+----+\n",
      "| 148|\n",
      "|  31|\n",
      "| 137|\n",
      "|  85|\n",
      "|  65|\n",
      "|  53|\n",
      "| 133|\n",
      "|  78|\n",
      "| 155|\n",
      "|  34|\n",
      "| 115|\n",
      "| 126|\n",
      "| 101|\n",
      "|  81|\n",
      "|  28|\n",
      "|  76|\n",
      "|  27|\n",
      "|  26|\n",
      "|  44|\n",
      "| 159|\n",
      "+----+\n",
      "only showing top 20 rows\n",
      "\n",
      "None\n",
      "+------------+\n",
      "|mcc_category|\n",
      "+------------+\n",
      "|          28|\n",
      "|          26|\n",
      "|          27|\n",
      "|          12|\n",
      "|          22|\n",
      "|           1|\n",
      "|          13|\n",
      "|          16|\n",
      "|           6|\n",
      "|           3|\n",
      "|          20|\n",
      "|           5|\n",
      "|          19|\n",
      "|          15|\n",
      "|           9|\n",
      "|          17|\n",
      "|           4|\n",
      "|           8|\n",
      "|          23|\n",
      "|           7|\n",
      "+------------+\n",
      "only showing top 20 rows\n",
      "\n",
      "None\n"
     ]
    }
   ],
   "source": [
    "for i in range(len(categorical_columns)):\n",
    "    print(df.select(categorical_columns[i]).distinct().show())"
   ]
  },
  {
   "cell_type": "markdown",
   "metadata": {},
   "source": [
    "### Тепловая карта корреляций"
   ]
  },
  {
   "cell_type": "code",
   "execution_count": 43,
   "metadata": {},
   "outputs": [],
   "source": [
    "vector_col = \"corr_features\""
   ]
  },
  {
   "cell_type": "code",
   "execution_count": 44,
   "metadata": {},
   "outputs": [],
   "source": [
    "assembler = VectorAssembler(inputCols=[\n",
    " 'app_id',\n",
    " 'amnt',\n",
    " 'currency',\n",
    " 'operation_kind',\n",
    " 'card_type',\n",
    " 'operation_type',\n",
    " 'operation_type_group',\n",
    " 'ecommerce_flag',\n",
    " 'payment_system',\n",
    " 'income_flag',\n",
    " 'mcc',\n",
    " 'country',\n",
    " 'city',\n",
    " 'mcc_category',\n",
    " 'day_of_week',\n",
    " 'hour',\n",
    " 'days_before',\n",
    " 'weekofyear',\n",
    " 'hour_diff',\n",
    " 'transaction_number'], outputCol=vector_col)"
   ]
  },
  {
   "cell_type": "code",
   "execution_count": 45,
   "metadata": {},
   "outputs": [],
   "source": [
    "dataset_vector = assembler.setHandleInvalid(\"skip\").transform(df).select(vector_col)"
   ]
  },
  {
   "cell_type": "code",
   "execution_count": 46,
   "metadata": {},
   "outputs": [],
   "source": [
    "matrix = Correlation.corr(dataset_vector, vector_col).collect()[0][0]\n",
    "corrmatrix = matrix.toArray().tolist()"
   ]
  },
  {
   "cell_type": "code",
   "execution_count": 47,
   "metadata": {},
   "outputs": [
    {
     "data": {
      "image/png": "[encoded data removed]",
      "text/plain": [
       "<Figure size 1440x720 with 2 Axes>"
      ]
     },
     "metadata": {
      "needs_background": "light"
     },
     "output_type": "display_data"
    }
   ],
   "source": [
    "fig, ax = plt.subplots(figsize=(20,10))\n",
    "attr = [\n",
    " 'app_id',\n",
    " 'amnt',\n",
    " 'currency',\n",
    " 'operation_kind',\n",
    " 'card_type',\n",
    " 'operation_type',\n",
    " 'operation_type_group',\n",
    " 'ecommerce_flag',\n",
    " 'payment_system',\n",
    " 'income_flag',\n",
    " 'mcc',\n",
    " 'country',\n",
    " 'city',\n",
    " 'mcc_category',\n",
    " 'day_of_week',\n",
    " 'hour',\n",
    " 'days_before',\n",
    " 'weekofyear',\n",
    " 'hour_diff',\n",
    " 'transaction_number']\n",
    "ax.set_title(\"Correlation Matrix\")\n",
    "\n",
    "ax = sns.heatmap(corrmatrix, linewidth=0.5, annot=True, fmt='.1g')\n",
    "ax.set_xticklabels(attr)\n",
    "ax.set_yticklabels(attr)\n",
    "plt.xticks(rotation = 45)\n",
    "plt.yticks(rotation = 45)\n",
    "plt.show()"
   ]
  },
  {
   "cell_type": "markdown",
   "metadata": {},
   "source": [
    "## Рекомендательная система"
   ]
  },
  {
   "cell_type": "code",
   "execution_count": 48,
   "metadata": {},
   "outputs": [],
   "source": [
    "from pyspark.ml.evaluation import RegressionEvaluator\n",
    "from pyspark.ml.recommendation import ALS\n",
    "from pyspark.ml.tuning import ParamGridBuilder, CrossValidator"
   ]
  },
  {
   "cell_type": "markdown",
   "metadata": {},
   "source": [
    "Создаём рейтинг mcc"
   ]
  },
  {
   "cell_type": "code",
   "execution_count": 49,
   "metadata": {},
   "outputs": [
    {
     "name": "stdout",
     "output_type": "stream",
     "text": [
      "+------+---+-----------+----------+\n",
      "|app_id|mcc|day_of_week|weekofyear|\n",
      "+------+---+-----------+----------+\n",
      "|     0|  2|          4|        34|\n",
      "|     0|  2|          4|        34|\n",
      "|     0|  2|          4|        34|\n",
      "|     0| 10|          2|        34|\n",
      "|     0|  2|          4|        53|\n",
      "|     0|  2|          4|        53|\n",
      "|     0|  2|          2|        53|\n",
      "|     0|  2|          2|        52|\n",
      "|     0| 10|          7|        52|\n",
      "|     0| 10|          7|        52|\n",
      "|     0|  2|          2|        50|\n",
      "|     0| 10|          5|        39|\n",
      "|     0|  2|          3|        39|\n",
      "|     0|  2|          6|        48|\n",
      "|     0|  2|          5|        48|\n",
      "|     0|  9|          5|        48|\n",
      "|     0|  2|          2|        48|\n",
      "|     0|  1|          4|        46|\n",
      "|     0|  2|          4|        46|\n",
      "|     0|  2|          4|        20|\n",
      "+------+---+-----------+----------+\n",
      "only showing top 20 rows\n",
      "\n"
     ]
    }
   ],
   "source": [
    "df_1 = df[\"app_id\",\"mcc\",\"day_of_week\", \"weekofyear\"]\n",
    "df_1.show()"
   ]
  },
  {
   "cell_type": "code",
   "execution_count": 50,
   "metadata": {},
   "outputs": [
    {
     "name": "stdout",
     "output_type": "stream",
     "text": [
      "root\n",
      " |-- app_id: integer (nullable = true)\n",
      " |-- mcc: integer (nullable = true)\n",
      " |-- day_of_week: integer (nullable = true)\n",
      " |-- weekofyear: integer (nullable = true)\n",
      "\n"
     ]
    }
   ],
   "source": [
    "df_1.printSchema()"
   ]
  },
  {
   "cell_type": "markdown",
   "metadata": {},
   "source": [
    "Ограничиваем данные одним днём"
   ]
  },
  {
   "cell_type": "code",
   "execution_count": 51,
   "metadata": {},
   "outputs": [],
   "source": [
    "import datetime\n",
    "\n",
    "now = datetime.datetime.now()"
   ]
  },
  {
   "cell_type": "code",
   "execution_count": 52,
   "metadata": {},
   "outputs": [],
   "source": [
    "import datetime\n",
    "\n",
    "now = datetime.datetime.now()\n",
    "# df_2 = df_1[(df_1[\"day_of_week\"] == now.weekday) & (df_1[\"weekofyear\"] == now.year)]\n",
    "# print(df_1.filter(col(\"day_of_week\") == now.weekday).collect())"
   ]
  },
  {
   "cell_type": "markdown",
   "metadata": {},
   "source": [
    "Делаем из 2D таблицы одномерную таблицу признаков"
   ]
  },
  {
   "cell_type": "code",
   "execution_count": 53,
   "metadata": {},
   "outputs": [],
   "source": [
    "from pyspark.sql.functions import create_map, lit, explode"
   ]
  },
  {
   "cell_type": "code",
   "execution_count": 68,
   "metadata": {},
   "outputs": [
    {
     "name": "stdout",
     "output_type": "stream",
     "text": [
      "+------+----+----+----+----+----+----+----+----+----+----+----+----+----+----+----+----+----+----+----+----+----+----+----+----+----+----+----+----+----+----+----+----+----+----+----+----+----+----+----+----+----+----+----+----+----+----+----+----+----+----+----+----+----+----+----+----+----+----+----+----+----+----+----+----+----+----+----+----+----+----+----+----+----+----+----+----+----+----+----+----+----+----+----+----+----+----+----+----+----+----+----+----+----+----+----+----+----+----+----+----+----+----+----+----+----+----+----+----+\n",
      "|app_id|   1|   2|   3|   4|   5|   6|   7|   8|   9|  10|  11|  12|  13|  14|  15|  16|  17|  18|  19|  20|  21|  22|  23|  24|  25|  26|  27|  28|  29|  30|  31|  32|  33|  34|  35|  36|  37|  38|  39|  40|  41|  42|  43|  44|  45|  46|  47|  48|  49|  50|  51|  52|  53|  54|  55|  56|  57|  58|  59|  60|  61|  62|  63|  64|  65|  66|  67|  68|  69|  70|  71|  72|  73|  74|  75|  76|  77|  78|  79|  80|  81|  82|  83|  84|  85|  86|  87|  88|  89|  90|  91|  92|  93|  94|  95|  96|  97|  98|  99| 100| 101| 102| 103| 104| 105| 106| 107| 108|\n",
      "+------+----+----+----+----+----+----+----+----+----+----+----+----+----+----+----+----+----+----+----+----+----+----+----+----+----+----+----+----+----+----+----+----+----+----+----+----+----+----+----+----+----+----+----+----+----+----+----+----+----+----+----+----+----+----+----+----+----+----+----+----+----+----+----+----+----+----+----+----+----+----+----+----+----+----+----+----+----+----+----+----+----+----+----+----+----+----+----+----+----+----+----+----+----+----+----+----+----+----+----+----+----+----+----+----+----+----+----+----+\n",
      "|  7982|  22|   8|  12|   7|null|null|null|null|null|   1|null|null|   1|   1|   2|null|null|null|null|null|null|null|null|null|null|null|null|   2|null|null|null|null|null|null|   1|   1|null|null|   4|   1|null|null|null|null|null|null|null|null|   2|   1|null|null|null|null|null|null|null|null|null|null|null|null|null|null|null|null|null|null|null|null|null|null|null|null|null|null|null|null|null|null|null|null|null|   1|null|null|   1|null|null|null|null|null|null|null|null|null|null|null|null|null|null|null|null|   1|null|null|null|null|\n",
      "| 10623|  71|  38|   2|null|   1|null|   3|null|   1|   6|   1|null|null|   2|   1|   1|   2|null|null|   1|null|   4|null|null|   2|null|null|null|null|null|null|null|null|   1|   2|null|null|null|null|   3|null|null|null|null|null|   4|null|null|null|null|null|null|null|null|null|null|null|null|null|null|null|null|   1|null|null|null|null|null|null|null|null|null|null|null|null|null|null|null|null|null|null|null|null|null|null|null|null|null|null|null|null|null|null|null|null|null|null|null|null|null|null|null|null|null|null|null|null|null|\n",
      "| 11458|  79|  95|null|  38|   2|null|null|   1|   2|  36|null|null|null|   1|   7|   4|   2|null|   2|null|   1|null|null|null|   1|null|null|   1|null|   2|  14|null|null|   1|   3|null|null|null|   1|   6|null|null|null|null|null|null|null|null|null|   1|null|null|null|null|null|null|null|null|null|null|null|   1|   4|null|null|null|null|null|null|null|null|null|null|null|null|null|null|null|null|null|null|null|null|null|null|null|   1|null|null|null|null|null|null|null|null|null|null|null|null|null|null|null|null|null|null|null|   2|null|\n",
      "| 11858|  29|  51|  66|null|  23|null|  21|   1|   1|   2|null|null|   3|null|   2|null|null|  16|null|null|null|   1|null|   3|   1|   1|null|null|null|null|   2|null|null|null|null|   1|   8|null|   2|   3|   9|null|   2|   1|null|null|   1|   2|null|   2|   4|null|   2|null|   2|null|null|null|   5|null|null|   1|null|null|null|null|null|null|null|null|null|null|null|null|null|null|null|null|null|   2|null|null|null|   1|   1|null|null|   1|   4|null|null|null|null|null|null|null|null|null|null|null|null|null|   2|null|null|null|null|   5|\n",
      "| 14570| 207|  24|   4|  24|  11|  23|  20|   7|  11|  14|null|null|null|   7|   2|   1|null|  25|   1|null|   1|   8|null|null|   4|   2|null|null|null|   7|   3|   2|null|   1|   1|null|   1|   4|  10|  12|   3|null|   5|null|null|null|null|   1|null|   4|null|null|  34|   4|   7|null|null|   5|   1|null|null|null|   1|null|null|   4|null|null|null|null|null|   6|null|   1|   3|   1|   1|null|   3|null|   2|   1|null|null|null|null|   5|null|   4|null|null|null|null|null|null|null|null|null|null|null|null|null|null|null|null|   1|null|  33|\n",
      "| 15619|  24|  23|null|null|null|null|null|null|   1|  11|null|null|null|  28|   1|null|null|null|null|   2|null|null|null|   1|null|null|null|null|null|null|null|null|null|null|null|null|null|null|null|   1|null|null|null|null|null|null|null|null|null|null|null|null|null|null|null|null|null|null|null|null|null|null|null|null|null|null|null|null|null|null|null|null|null|null|null|null|null|null|null|null|null|null|null|null|null|null|null|null|null|null|null|null|null|null|null|null|null|null|null|null|null|null|null|null|null|null|null|null|\n",
      "| 18024|  38| 159|   2|   4|   1|null|  25|   2|  18|   2|null|null|null|   3|   5|null|   1|null|   1|  29|null|null|null|   7|   2|  10|null|null|null|null|null|null|null|null|   1|null|null|null|   5|null|   1|   1|null|null|   1|null|null|null|null|null|null|null|null|null|   2|null|null|   6|null|null|null|null|null|null|null|null|null|null|null|null|null|null|null|null|null|null|null|   1|   1|null|null|null|null|null|null|null|null|null|null|null|null|null|null|null|null|null|null|null|null|null|null|null|null|   4|null|null|null|   3|\n",
      "| 19984|  90| 178|   8|  15|   2|null|  13| 167|   3|  10|null|null|null|   2|   1|   2|   2|null|   1|null|   1|   1|null|   1|   1|   2|null|null|null|   1|null|   1|null|   1|null|null|null|  25|   2|   1|null|null|null|null|   1|null|   1|   3|null|null|null|   1|null|null|null|null|null|null|null|null|null|null|   1|null|null|null|null|null|   3|null|null|null|null|null|null|null|null|null|null|null|null|null|null|null|null|null|   1|null|null|null|null|null|null|null|null|null|null|null|null|null|null|null|null|null|null|null|null|   4|\n",
      "|   496|  34|  39|  12|   1|  54| 102|  13|   6|  42|  14|   6| 102|null|  11|   7|   5|   4|  13|null|   5|   1|   7|null|   1|null|   2|null|  20|   1|null|   1|null|   7|  10|   5|   2|   6|   2|   4|   4|   4|   3|   8|null|null|null|   3|   4|   2|null|   8|null|   4|   2|   1|   4|   1|null|null|null|   2|   4|   1|   1|null|null|   1|   1|null|   6|null|   1|null|   1|null|null|   1|null|null|   1|null|   1|null|null|   3|   2|   1|   5|   1|null|null|   9|null|null|null|null|null|  10|null|   5|null|null|   1|null|   2|null|null|  19|\n",
      "|  1959|  44|  74|   1|   7|   4|null|   8|null|null|  29|null|null|null|   4|null|null|null|null|   2|null|null|null|null|null|null|   4|null|null|null|null|null|null|null|null|null|null|null|null|   1|null|null|null|null|null|null|null|   1|null|null|null|null|null|null|null|null|null|null|null|null|null|null|null|null|null|null|null|null|null|null|null|null|null|null|null|null|null|null|null|null|null|null|null|null|null|null|null|null|null|null|null|null|null|   1|null|null|null|null|null|null|null|null|null|null|null|null|null|null|null|\n",
      "|  5300| 144|  50|  39|   1|   5|   1|   2|   1|  15|  27|null|null|  12|   3|   2|null|null|null|null|null|null|null|null|  16|null|   1|null|null|null|null|null|   2|null|   2|null|null|null|null|   2|null|null|   3|null|null|   1|null|null|   5|   1|null|null|null|null|null|null|null|null|null|null|   1|null|null|null|null|null|null|   6|null|null|null|null|null|null|null|null|null|null|null|null|null|null|   1|null|null|null|   1|null|null|null|null|null|null|null|null|   3|   1|null|null|null|null|null|null|null|null|null|null|null|   4|\n",
      "| 14832| 140|  25|   7|  25|   5|   3|  11|null|  45|   3|null|null|   1|null|null|   1|   3|null|null|  10|null|null|null|null|   1|null|null|   1|null|   1|   1|null|null|   1|null|   1|null|null|null|null|null|   7|   1|null|null|null|null|null|null|   3|null|null|null|null|   1|null|   1|   1|null|null|null|   1|null|null|null|null|null|null|   1|null|   7|null|null|null|null|null|  12|null|null|null|null|null|null|null|null|null|null|null|null|null|null|null|null|null|null|null|null|null|null|null|null|null|null|null|null|null|null|   6|\n",
      "| 15727|  92|  95|  34|null|  19|null|   5|   1|   8|   5|null|null|null|   1|   1|   2|   1|null|null|   5|null|   2|null|null|   2|   1|null|   2|null|null|null|null|null|   2|   4|null|   1|null|null|null|null|null|null|   1|null|   1|null|   1|   2|null|   7|null|null|null|null|null|   7|null|null|null|null|null|null|null|null|null|null|null|null|  15|null|null|null|null|null|null|null|null|null|null|null|null|null|null|null|null|null|null|null|null|null|null|null|null|null|null|null|null|null|null|null|null|null|null|null|null|null|   1|\n",
      "| 18911| 217|  77|   4|  10|null|null|   4|   1|null|  18|null|null|   1|null|   2|   7|   1|null|   3|null|null|   4|null|   4|  27|null|null|null|null|   8|   1|null|   2|null|   2|null|null|   1|   1|null|null|null|null|null|null|null|null|null|null|null|null|null|null|null|null|null|null|null|null|null|null|null|   1|null|null|null|null|null|null|null|null|null|null|null|null|null|null|null|null|null|null|   1|null|null|null|null|null|null|null|null|null|null|null|null|null|null|null|null|null|null|null|null|null|null|null|null|null|null|\n",
      "| 20735| 108|  20|   6|  22|null|null|   1|  16|   5|  20|null|null|null|  30|   1|   1|   3|null|   1|null|null|   1|null|   1|null|null|null|   5|   4|   3|null|   1|null|   1|null|null|null|null|null|null|null|   2|null|   5|null|null|null|   4|null|null|null|null|null|null|null|null|null|null|null|null|null|null|null|null|null|   2|null|null|null|null|null|null|null|null|null|null|null|null|null|null|null|null|null|null|null|null|null|null|null|null|null|null|null|null|   1|null|null|null|null|null|null|null|null|null|null|null|null|   3|\n",
      "|  1829|   3|  28|null|   3|null|null|   2|null|   4|   1|null|null|null|null|   7|   4|   2|null|null|   1|null|null|null|null|null|null|null|null|null|null|null|null|null|null|null|null|null|   2|   1|null|   1|null|null|null|   1|null|null|null|null|   1|null|null|null|null|null|null|null|null|null|null|null|null|null|null|null|null|null|null|null|null|null|null|null|null|null|null|null|null|null|null|null|null|null|null|null|null|null|null|null|null|null|null|null|null|null|null|null|null|null|null|null|null|null|   1|null|null|null|null|\n",
      "|  2142|  79|  67| 124|  14|  79|  86|   1|null|   4|  17|null|null|   3|   3|   7|  14|  14|  40|null|null|   1|   6|   2|null|   8|null|null|   2|   1|null|null|   5|   2|   2|null|null|   1|   1|   2|   5|   1|   2|   7|null|   7|   6|   1|   7|   5|   9|null|   1|   7|   4|   1|null|   5|null|   2|null|null|   5|   4|   1|   1|   1|null|   1|   1|null|null|null|null|null|null|null|   2|null|null|   4|   1|null|null|null|   4|null|null|null|   5|null|   2|null|   2|null|null|   2|null|null|null|null|   2|null|   3|null|null|null|   3|   7|\n",
      "|  4818|  38|  17|   5|   3|  11|   9|  15|   3|  33|   7|null|null|null|  10|   2|   2|   2|  19|null|null|null|   4|null|null|null|null|null|   6|null|   4|   8|null|   2|null|null|null|null|null|   1|   8|null|   1|null|null|   1|null|null|   1|null|null|null|null|null|   3|   1|null|   2|null|   1|null|null|null|null|null|   1|   2|null|null|   2|null|null|   2|null|   2|null|null|   1|null|null|null|null|null|null|null|null|null|null|null|null|null|null|null|null|null|null|null|null|null|null|null|null|null|null|null|null|null|null|   1|\n",
      "|  5518|  27|  20|   2|   3|   4|null|  22|   4|   6|  11|null|null|null|   1|null|   6|null|null|   1|null|null|   3|null|   6|null|null|null|null|null|   1|null|   1|null|null|null|null|   3|   2|   2|null|   1|null|   2|null|   1|   4|   1|null|   3|null|null|null|  20|   2|null|null|   3|   1|null|null|null|   1|   1|null|null|null|null|null|   3|null|null|null|null|null|null|null|null|null|null|   2|null|null|null|   1|null|null|   1|null|null|null|null|null|null|null|null|null|null|null|null|null|null|null|null|null|null|null|null|   3|\n",
      "| 12940| 135|  60|  27| 247|  14|null|  27|  24|  21|   6|null|null|null|  81|   1|   2|   5|  23|   1|   1|null|   4|null|null|   1|   8|null|null|null|   1|   3|null|null|   5|null|null|   1|null|   3|null|null|null|null|null|null|  10|null|   2|null|null|null|null|null|null|   1|null|   1|  29|null|null|null|null|null|null|   1|null|null|null|   2|null|null|null|null|null|null|null|null|null|   2|null|null|null|null|   1|null|null|null|null|null|null|null|null|null|null|null|null|null|null|null|null|null|null|null|null|null|null|null|   2|\n",
      "| 19553|  32|   9|  72|   1|   4|null|   1|null|null|   4|null|null|null|null|   2|  14|   2|null|null|   1|   6|   2|null|null|   1|null|null|null|null|null|null|null|null|   1|   2|null|null|null|   2|null|null|null|null|null|   1|null|null|null|null|   1|null|  14|null|null|   4|null|   1|null|null|null|null|null|   1|null|null|null|null|null|null|null|null|null|null|null|null|null|null|null|null|null|   1|null|null|null|null|null|null|null|null|null|null|null|   1|null|null|   3|null|null|null|null|null|null|null|null|null|null|null|null|\n",
      "| 20497|  50|  34|   7|  54|  97|   1|null|   7|   2|  19|null|null|   2|  33|  26|   1|  29|null|   1|null|   1|null|null|null|null|   5|null|  11|null|  11|null|null|   3|null|   8|null|   5|   2|   6|null|null|null|null|null|   5|null|   1|   1|null|   6|null|null|   1|  37|   2|null|   5|   5|null|null|null|null|   2|null|   2|   8|null|   1|   1|null|null|null|null|   1|null|null|null|null|null|null|   7|   1|null|null|null|null|null|null|   2|null|null|null|   4|null|null|null|null|null|null|null|null|null|null|null|null|null|null|  14|\n",
      "| 21700| 224|  50|  15|null|null|null|null|   1|   1|  11|null|null|null|   3|   6|   5|   5|null|   1|null|   1|   5|null|null|   1|null|  24|   5|null|null|   1|null|   1|   2|   2|null|   2|null|   2|null|   3|null|null|  12|   2|   8|   1|null|  13|null|null|null|   7|null|   1|null|   3|null|null|null|null|null|null|null|null|null|null|null|null|   2|null|null|null|   1|null|null|null|null|null|null|null|null|null|null|null|null|null|null|   1|null|null|null|null|null|null|null|null|null|null|null|null|null|   1|null|null|null|null|   6|\n",
      "|  4101|   4|  23|null|null|null|null|   2|null|null|null|   1|null|null|null|null|null|null|null|null|   5|null|null|null|  14|null|   1|null|null|null|null|null|null|null|null|   2|null|null|null|null|null|null|null|null|null|null|null|null|null|null|null|null|null|null|null|null|null|null|   2|null|null|null|null|null|null|null|null|null|null|null|null|null|null|null|null|null|null|null|null|   1|null|null|null|null|null|null|null|null|null|null|null|null|null|null|null|null|null|null|null|null|null|null|null|null|null|null|null|null|   1|\n",
      "|  4900| 128|  24|   2|  18|   7|null|   1|  18|null|  21|   1|null|null|   7|null|   5|null|null|null|null|null|   2|null|   1|   1|   8|null|  11|null|   8|null|null|   2|   2|   1|null|null|   3|null|null|   1|null|null|null|   1|null|null|null|null|null|null|null|null|null|null|null|   1|   3|null|null|   1|null|null|null|null|null|null|null|null|null|null|null|null|null|null|   1|null|null|null|null|null|null|null|null|null|null|null|null|null|null|null|   1|null|null|null|null|null|null|null|null|null|null|null|null|null|null|null|null|\n",
      "|  6466|  98|  76|  39|   3|  52|null|  24|null|  18|  20|   1|null|   3|   4|   4|   4|   8|null|null|   3|null|   1|null|null|   5|   2|null|   6|null|  15|   4|   1|   1|   2|   6|null|   1|  10|   5|   3|  12|null|   5|   9|   4|   1|   1|   2|   2|   5|null|null|   1|null|null|   3|   3|null|  26|null|null|   3|null|   2|null|   1|null|null|   2|   1|null|null|null|null|null|null|null|null|null|   2|   1|   1|null|null|null|   2|   1|   2|null|null|null|null|null|null|null|   2|null|null|null|null|null|null|null|   1|null|null|null|  31|\n",
      "|  6654|  73|  61|  17|   3|null|null|   8|   2|  17|   2|   1|null|   4|   2|   1|null|null|null|null|   8|null|   1|null|null|   1|   1|null|null|null|null|null|null|null|null|   2|null|   2|null|   3|null|null|null|null|null|null|null|null|   1|null|null|null|   1|   1|null|null|null|null|null|null|null|null|null|null|null|null|null|null|null|null|null|null|null|null|null|   1|null|  12|   3|   1|null|   3|null|null|null|null|null|   1|null|null|null|null|null|null|null|null|null|null|null|null|null|null|null|null|null|null|null|null|   1|\n",
      "|  7993|  44|  59|  17|  25|  14|null|  25|   2|  15|   7|   2|null|   1|  22|null|   3|null|null|   2|   6|   1|   2|null|   1|   1|  10|null|   2|null|null|null|null|null|   5|null|null|   1|null|   5|null|   8|null|   1|null|   4|   1|null|   1|  10|   2|null|null|   1|   1|   3|null|null|null|   3|   1|null|   2|null|   2|   2|   2|null|null|   2|null|null|null|null|   3|   1|null|null|null|null|null|null|   2|null|null|null|   1|null|   1|   2|null|null|null|null|null|null|null|null|null|null|null|null|   1|   1|null|null|null|null|   1|\n",
      "|  9376| 285|  83|  28|   2|   4|   2|  11|  37|  44|   6|null|null|null|null|   1|   3|   1|null|   1|null|null|   1|null|   2|   1|null|null|null|null|   1|null|   1|null|   1|   3|null|   2|null|   1|null|   1|null|null|null|   2|null|null|null|null|   2|null|null|null|null|null|null|null|null|null|null|null|null|null|null|null|null|  12|null|   3|null|null|null|null|null|   1|null|  12|null|null|null|   5|null|null|null|null|null|null|null|null|null|null|null|null|null|null|null|null|null|null|null|null|null|null|null|null|null|null|   5|\n",
      "| 12027|  83|  42|   3|   6|null|null|   1|   1|   6|   7|null|null|   1|null|   3|   7|   6|null|null|  15|null|   2|null|   1|   2|   1|null|   3|null|   2|   1|null|null|null|null|null|null|null|null|   6|null|null|null|null|   3|null|null|null|null|null|null|null|null|null|null|null|null|null|null|null|null|null|   1|null|null|null|null|null|null|null|null|null|null|null|null|null|null|null|null|null|null|null|null|null|null|null|null|null|null|null|null|null|null|null|null|null|null|null|null|null|null|null|null|null|null|null|null|   1|\n",
      "| 12046|  21|   9| 104|   5|  15|   1|  11|null|   5|null|  59|null|   5|   3|  35|null|   1|null|null|null|null|   2|null|   2|null|   2|   1|   2|   7|  12|   7|   5|null|   7|null|null|   3|null|null|null|   1|null|null|   4|null|   3|null|   4|   2|null|null|null|null|null|null|null|null|null|null|null|   1|   9|null|   2|null|   5|null|null|null|null|   7|null|null|   3|null|null|   1|null|null|null|null|null|null|null|null|null|null|null|null|null|null|null|null|null|   1|null|null|   2|null|null|   1|null|null|null|null|null|null|  22|\n",
      "| 23336| 117|  67|  17|  28|   2|null|  58| 104|  10|  14|null|null|null|   2|   2|null|   6|null|null|  51|null|null|null|   1|null|   1|null|null|null|null|null|   6|   2|  12|   2|  14|   1|   1|null|null|null|   2|null|null|   1|null|null|   4|null|null|null|null|null|null|null|null|   1|null|   3|null|null|null|null|null|null|null|null|null|null|null|null|null|   1|null|   1|null|null|null|null|null|null|null|null|null|null|null|null|null|null|null|null|null|null|null|null|null|null|null|null|null|null|null|null|null|null|null|null|   1|\n",
      "|  3175|  60|  47|null|  29|null|null|   2|   2|null|  15|null|null|null|   5|   1|   2|   4|null|null|  61|null|null|null|   1|null|null|null|null|   1|null|null|null|null|null|null|null|null|   2|   2|null|null|null|null|  12|null|null|null|   1|null|null|null|null|null|null|null|null|null|  15|null|null|null|null|null|null|null|null|null|null|null|null|null|null|null|null|null|null|null|  13|null|null|null|null|null|null|null|null|null|null|null|null|null|null|null|null|null|null|null|null|null|null|null|null|null|null|null|null|null|   1|\n",
      "|  3918|  11|  22|   1|   2|   4|null|null|null|   1|   2|null|null|null|   1|null|   2|   1|null|null|null|null|   1|null|null|null|   1|null|null|null|null|null|null|null|null|null|null|null|null|null|   2|null|null|null|null|null|null|null|   1|null|null|null|null|null|null|null|null|null|null|null|null|null|null|null|null|null|null|null|null|null|null|null|   1|null|null|null|null|null|null|null|null|null|null|null|null|null|null|null|null|   1|null|null|null|null|null|null|null|null|null|null|null|null|null|null|null|null|null|null|null|\n",
      "|  5156|   4|   1|   4|null|   2|null|null|null|null|null|   3|  17|null|null|null|null|null|null|null|null|null|null|null|null|null|null|null|   2|null|null|null|null|null|   1|null|   1|null|null|null|null|null|null|null|null|null|null|null|null|null|null|null|null|null|null|null|null|null|null|null|null|null|null|null|null|null|null|null|null|null|null|null|null|null|null|null|null|null|null|null|null|null|null|null|null|null|null|null|null|null|null|null|null|null|null|null|null|null|null|null|null|null|null|null|null|null|null|null|null|\n",
      "|  7253|  30|  72|  20|   3|  24|  30|  29|   3| 101|   6|null|null|null|   1|null|   2|   2|null|null|   1|null|   2|null|null|null|null|null|null|null|null|null|null|null|   1|null|null|null|null|   1|null|   1|   3|null|null|null|null|null|null|null|   1|null|null|   1|   4|   1|   5|   1|null|   1|null|null|   5|null|  16|   2|null|null|   9|null|null|null|null|null|null|null|null|null|null|   1|null|   1|null|null|null|null|null|null|null|null|null|null|null|null|   2|null|null|null|null|null|null|null|null|null|null|null|null|null|   2|\n",
      "| 11141|null|  14|null|null|null|null|null|null|null|null|null|null|null|   1|   1|   2|null|null|null|null|null|   2|null|null|null|null|null|null|null|null|null|null|null|null|   2|null|null|null|null|null|   3|null|null|null|null|null|   1|null|null|null|null|null|null|null|null|null|null|null|null|null|null|null|null|null|null|null|null|null|null|null|null|null|null|null|null|null|null|null|null|null|null|null|null|null|null|null|null|null|null|null|null|null|null|null|null|null|null|null|null|null|null|null|null|null|null|null|null|null|\n",
      "|   471| 111|  39|  39|  41|   6|null|  13|   2|   3|   7|null|null|null|   3|   1|   1|   3|null|   1|   1|   1|   1|null|   1|   2|   2|null|   1|   1|null|   2|null|null|   5|   1|null|null|   1|null|null|null|   2|null|null|null|   2|   2|null|null|null|null|null|null|null|null|null|null|null|null|null|null|null|null|null|null|null|null|null|null|null|null|null|null|   2|null|null|null|   1|null|null|null|   1|null|null|null|null|null|null|null|null|null|null|null|null|null|null|null|null|null|null|null|null|null|null|null|null|null|   1|\n",
      "|  1342| 111|  56|  51|   3|   3|null|   5|null|null|  19|null|null|   1|   1|  10|   3|   6|null|null|   2|null|   1|null|   2|null|null|null|   5|null|   6|null|null|   1|null|   2|null|null|   4|null|null|null|null|null|null|   1|null|  10|   9|null|null|null|null|null|null|null|null|null|null|null|null|null|  22|null|null|null|null|null|null|   1|null|   2|null|null|null|null|null|null|null|null|null|null|null|null|null|null|null|null|null|null|null|null|null|null|null|null|null|null|null|null|null|null|null|null|null|null|null|null|null|\n",
      "|  6397|null|  24|   1|null|   3|null|null|null|  33|   1|null|null|null|null|   1|null|   3|null|null|null|null|  10|null|null|   1|null|null|null|null|null|null|null|null|null|null|null|null|   1|   1|null|null|null|  11|null|null|null|null|null|null|null|null|null|null|   3|null|null|   1|null|null|null|null|null|   2|null|null|   1|null|null|null|null|null|null|null|null|null|null|null|null|null|   1|   2|   1|null|null|   1|null|null|null|null|null|null|null|null|null|null|null|null|null|null|null|null|null|null|null|null|null|null|   4|\n",
      "| 10817|  59|  55|  22|  64|   1|null|  14|  13|null|  10|null|null|null|   6|   3|   2|null|   2|   2|   1|   1|   1|null|   4|null|   2|  12|   3|null|null|   3|null|null|null|null|   6|null|null|   1|null|null|null|null|null|   1|null|   3|null|null|null|null|null|   1|null|   2|null|   1|null|null|null|null|null|null|null|   3|null|null|null|null|null|null|null|null|null|null|null|null|null|null|null|null|null|null|null|null|null|   1|null|null|null|null|null|null|   2|null|null|null|null|null|null|null|null|null|null|null|null|null|   2|\n",
      "| 14450|  89|  78|   3|   2|   8|null|  25|null|null|  19|null|null|null|   2|   1|   6|   5|null|null|null|null|   2|null|   2|   4|   1|null|null|null|null|   1|null|   3|null|   3|null|null|null|   1|   2|   5|null|null|null|null|null|   2|null|null|null|null|null|null|null|   1|null|   2|null|null|null|null|null|null|null|null|null|null|null|null|null|null|null|null|null|null|null|null|null|null|null|null|   1|null|null|null|null|null|null|   1|null|null|null|null|null|null|   1|null|null|null|null|null|null|null|null|null|null|   6|null|\n",
      "| 18800|  49|  16|null|   2|   2|null|  12|   7|   1|   6|null|null|null|   6|   1|null|null|   1|null|  28|null|null|null|   6|   1|   3|   3|null|null|   6|   1|null|null|null|   1|   1|null|   1|null|null|   3|   1|null|null|   1|null|null|null|null|null|null|null|null|null|null|null|null|   4|   3|null|null|null|null|null|null|null|null|null|null|null|null|null|null|null|null|null|null|null|null|null|null|null|null|null|null|null|null|null|null|null|null|null|null|null|null|null|null|   3|null|null|null|null|null|null|null|null|null|null|\n",
      "| 19204|  75|  81|   1|  16|  67|null|  19|null|null|   7|null|null|null|   4|   2|null|null|null|   1|null|null|null|null|null|null|   4|null|null|null|null|null|null|null|null|null|null|   1|null|null|null|null|null|null|null|   3|null|null|null|null|null|null|null|   1|null|   1|null|null|null|null|null|null|null|null|null|null|null|null|null|null|null|null|null|null|null|   1|null|null|null|   1|null|null|   3|null|null|null|null|   1|null|null|null|null|null|null|null|null|null|null|null|null|null|null|null|null|null|null|null|null|   2|\n",
      "| 21220|  88|  24|  12|  10|   7|null|  34|   1|  27|  10|null|null|   1|   1|null|   2|null|   2|null|null|   1|   2|null|null|null|   4|null|   1|null|null|   3|null|   2|null|   1|  18|   4|null|null|null|   1|   1|null|null|null|null|   1|null|   6|null|null|null|null|null|   1|null|null|null|   1|null|null|null|null|   1|   1|null|null|null|null|null|null|null|null|null|null|null|null|null|  11|null|null|   1|null|   3|null|   5|   1|null|null|null|null|null|null|null|null|null|null|null|null|null|null|null|null|null|null|null|null|   3|\n",
      "| 22097| 251|  35|  39|  48|  19|null|null|   1|   2|  27|null|null|null|   3|   3|   3|  15|null|null|null|null|   2|null|   4|   6|null|null|null|null|null|null|null|null|   4|  19|   1|null|null|null|   1|   1|null|null|null|   3|null|   1|   2|null|   3|null|null|null|null|null|null|null|null|null|null|null|null|   7|null|null|null|null|null|null|null|null|null|null|null|null|null|null|null|null|null|null|   1|null|   1|null|null|   1|null|null|null|null|null|null|null|null|   1|null|   2|null|null|null|null|null|null|null|null|null|   5|\n",
      "| 23271|  21|  23|  59|   3|  12|   1|   8|null|  21|   2|null|null|   3|   2|null|   2|   2|null|   8|null|null|null|null|   1|null|null|null|   1|null|null|null|   5|   1|   6|   4|null|   1|null|   1|null|   3|null|   2|null|   1|null|null|null|   8|   2|   2|null|   3|   2|   6|   1|   1|null|null|null|null|null|null|null|   1|null|null|null|   2|   1|null|null|   3|   3|null|null|null|null|null|   2|null|   8|null|null|   9|   4|   1|null|null|null|null|null|null|null|   1|null|null|null|null|   1|null|null|null|null|   1|null|null|  15|\n",
      "|  1591| 228| 171|  67|   1|  74|null|null|null|   6|  31|null|null|  16|   3|  16|  18|  47|  13|   1|null|   1|   8|null|null|  11|null|null|   4|null|   5|   1|   3|   3|  30|   3|   1|   2|null|   4|  14|   4|   4|   3|null|   1|null|null|   1|   5|  15|null|null|   3|null|   3|null|  11|null|   2|  10|null|   1|   3|null|   2|   6|null|null|   4|null|null|null|null|   3|null|  25|null|null|null|   1|   1|   1|null|null|   2|null|   2|   1|   3|null|null|null|null|null|null|null|null|  17|null|null|null|null|   1|null|null|   2|null|  22|\n",
      "|  6336|  36|  34|  55|   2|   7|null|   7|   1|   1|   4|null|null|null|null|null|   1|null|null|null|null|null|   4|null|null|   1|null|null|null|null|null|null|null|null|   2|   4|null|   1|null|   3|null|null|null|   2|null|   2|   9|   1|null|null|null|null|null|null|   1|   1|null|   4|null|null|null|null|null|   1|null|null|   1|null|null|null|null|null|null|null|null|null|null|null|null|null|null|null|null|null|null|null|   1|null|null|null|null|null|null|null|null|null|null|null|null|null|null|null|null|null|   1|null|null|   1|null|\n",
      "|  8389|  73| 111|   8|  10|   1|null|  13|   2| 182|   4|null|null|null|   2|   1|null|   4|null|   1|   9|   4|   1|null|null|   1|null|null|  20|null|   1|null|null|null|   6|null|null|   1|null|null|null|null|  24|   1|   2|null|null|null|   2|null|null|null|  15|null|   1|   2|null|null|null|   1|null|  30|  21|null|   1|null|null|null|null|null|null|null|null|null|null|null|null|null|null|null|null|null|null|null|null|null|null|null|null|null|null|   2|null|null|null|null|null|null|   1|null|null|null|null|null|null|null|null|null|  24|\n",
      "| 11748|  17|  21|   1|   6|null|null|null|null|null|   2|null|null|null|null|null|null|   1|null|   2|null|null|null|null|null|null|null|null|null|null|null|   3|null|null|null|null|null|null|null|null|null|null|null|null|null|null|null|null|null|null|null|null|null|null|null|null|null|null|null|null|null|null|null|null|null|null|null|null|null|null|null|null|null|null|null|null|null|null|null|null|null|null|null|null|null|null|null|null|null|null|null|null|null|null|null|null|null|null|null|null|null|null|null|null|null|null|null|null|null|\n",
      "| 20135| 317|  47|  62|  56|  11|null|  70|   7|   6|   4|   2|null|null|   5|  14|null|null|   5|null|null|   1|null|null|   2|   1|  12|null|null|null|null|   3|null|null|   1|null|null|  38|   1|   1|   4|null|null|null|null|null|  29|   3|null|null|null|null|  11|null|null|null|null|   1|   1|null|null|null|null|   1|null|null|   1|null|null|null|null|null|   5|null|null|null|null|   2|null|null|null|null|   3|null|null|null|   1|null|null|null|null|null|null|null|null|   3|null|null|null|null|null|null|null|null|null|null|null|   1|   4|\n",
      "|  8592| 128|  74|   5|   5|null|null|  58|   1|   1|  14|null|null|   5|   1|   4|null|null|null|null|  18|   1|null|null|null|   2|  17|null|null|null|null|null|null|null|null|null|null|   3|null|   1|null|   1|null|null|null|null|null|   1|null|null|null|null|null|null|null|null|   1|   1|   5|   3|null|null|null|null|null|null|   1|null|null|null|null|null|null|null|null|null|null|null|   1|null|null|null|null|null|null|null|   1|   1|null|null|null|null|null|null|null|null|null|null|null|null|null|null|null|null|null|null|null|null|   1|\n",
      "| 20382|  72|  87|   1|   5|null|null|   9|null|null|   2|null|null|null|   2|   1|null|null|null|null|null|null|null|null|null|null|null|null|   1|null|null|null|null|null|null|null|   2|null|null|null|null|null|null|null|null|null|null|null|null|   1|null|null|null|null|null|null|null|null|null|null|null|null|null|null|null|null|null|null|null|null|null|null|null|null|   1|null|null|null|null|null|   1|   2|   1|null|null|null|null|null|null|null|null|null|null|null|null|null|null|null|   1|   1|null|null|null|null|null|null|null|null|   3|\n",
      "| 20924| 101|  37|  18|  17|  18|null|null|  18|   1|  18|null|null|null|  16|null|   3|null|null|null|  14|   1|   1|null|null|null|   1|null|null|null|   4|null|   1|null|   4|   2|null|null|   2|null|   1|null|null|   2|null|   1|null|null|   2|null|null|null|null|null|   3|null|null|null|   2|null|null|null|null|null|null|null|null|null|null|null|null|null|null|null|null|null|null|null|null|null|null|null|null|null|null|null|null|null|null|null|null|null|null|null|null|null|null|null|null|null|null|   1|null|null|null|null|null|null|null|\n",
      "| 22346|   4|  13|null|  18|null|null|null|null|null|   2|null|null|null|  10|null|null|null|null|null|null|null|null|null|null|null|null|null|null|null|null|null|null|null|null|null|null|null|null|null|null|null|null|null|null|null|null|null|null|null|null|null|null|null|null|null|null|null|null|null|null|null|null|null|null|null|null|null|null|null|null|null|null|null|null|null|null|null|null|null|null|null|null|null|null|null|null|null|null|null|null|null|null|null|null|null|null|null|null|null|null|null|null|null|null|null|null|null|null|\n",
      "| 22521| 160|  21|  33|   4|  18|null|  24|null|null|   7|null|null|null|   1|   5|   1|   1|null|   6|null|null|null|null|   5|null|null|null|  20|null|null|null|   4|  14|   5|null|null|   2|  12|   3|   4|   4|   8|null|  20|   2|null|   2|null|null|null|null|null|   1|   2|   1|null|null|   6|null|null|null|null|null|null|   3|null|null|  12|null|null|null|null|null|null|null|null|   3|null|   1|   1|null|null|null|null|null|null|null|null|null|null|null|null|null|null|null|null|null|null|   2|null|null|null|null|null|null|null|null|   7|\n",
      "|  1238|  67|   4|  11|   1|  14|null|  54|   2|   1|   3|null|null|null|null|   2|   4|   4|null|   1|   7|null|null|null|null|   1|null|null|   3|null|null|null|null|  12|null|   4|null|   2|null|   4|null|null|null|null|null|   1|null|   3|   2|null|null|null|null|   1|null|   3|null|   1|null|null|null|null|null|null|null|null|null|null|null|   4|null|null|null|null|   1|   2|null|null|null|   2|   6|null|   2|null|null|   3|null|null|null|null|null|null|null|null|null|null|null|null|   8|null|null|null|   1|null|null|null|null|   2|   6|\n",
      "|  3749|  39|  51|null|   2|null|null|null|   3|   4|   5|   1|   5|null|   2|null|null|null|null|null|null|null|null|null|null|null|null|null|null|null|null|null|null|null|null|null|null|null|null|null|null|null|null|null|null|null|null|null|null|   1|null|null|null|null|null|null|null|null|null|null|null|null|null|null|null|null|null|null|null|null|null|null|null|null|null|null|null|null|null|null|null|null|null|null|null|null|null|null|null|null|null|null|null|null|null|null|null|null|null|null|null|null|null|null|null|null|null|null|null|\n",
      "|  6658|  36|  10|   9|   4|   1|null|null|null|   3|   2|null|null|   1|null|null|null|   1|null|null|   2|null|   2|null|null|null|null|null|null|null|null|null|null|null|null|null|null|null|null|null|null|null|null|null|null|null|null|null|null|null|null|null|null|null|null|null|null|null|null|null|null|null|null|null|null|null|null|null|null|null|null|null|null|null|null|null|null|null|null|null|null|null|null|null|null|null|null|null|null|null|null|null|null|null|null|null|null|null|null|null|null|null|null|null|null|null|null|null|null|\n",
      "|  9427| 211|  32|   8|   3|   2|null|null|null|null|   8|null|null|   1|   1|   3|   6|  15|   1|null|   3|null|   2|null|null|   2|null|null|   1|   1|   2|null|null|   2|null|   5|null|   1|null|null|null|null|null|null|null|   1|null|   3|null|null|   1|null|null|null|null|   1|null|   4|null|null|null|null|null|null|null|null|   6|null|null|null|null|null|null|null|null|null|null|null|null|null|null|null|null|null|null|null|null|null|null|null|null|null|null|null|null|null|   2|null|null|null|null|null|null|null|null|null|null|   5|   1|\n",
      "| 12799| 251|  40|  27| 102|  10|null|  23|   2|   4|  17|   3|null|null|   4|null|   4|   3|   1|   7|   3|null|   1|null|null|   1|   5|  15|null|   2|  10|null|null|   2|   6|   5|null|   1|   1|null|   5|null|null|null|null|   1|null|  12|   1|null|   3|null|null|null|null|   1|null|   1|null|null|   1|null|null|null|null|null|   4|null|null|null|null|null|   5|null|null|null|null|null|null|null|   1|null|null|null|null|null|null|   1|null|null|null|null|null|null|  26|null|null|null|null|null|null|   5|null|null|null|null|null|   1|   4|\n",
      "| 17679|  19|  59|null|   3|null|null|  17|null|null|   4|null|null|null|null|   2|null|null|null|null|null|null|null|null|   1|  11|null|null|null|null|null|null|null|null|null|null|   1|null|null|null|null|null|null|null|null|null|null|null|null|null|null|null|null|null|null|null|null|   1|null|null|null|null|null|null|null|null|null|null|null|null|null|null|null|null|null|null|null|null|null|null|null|null|null|null|null|null|null|null|null|null|null|null|null|null|null|null|null|null|null|null|null|null|null|null|null|null|null|null|   3|\n",
      "| 23571| 140| 120|  83| 340|  26|null|  16|  17|null|  26|null|null|null|  31|  31|null|   3|null|   8|null|   1|   2|null|   1|null|null|   3|null|null|   1|null|null|null|   2|null|null|   1|   1|null|null|null|null|null|null|   8|null|   9|null|null|null|null|null|   3|null|null|null|null|null|null|null|null|null|null|null|null|   2|null|null|   1|null|null|null|null|null|null|null|null|   1|null|null|null|null|null|null|null|null|null|null|null|null|null|null|null|null|null|null|null|null|null|null|null|null|null|null|null|null|null|   1|\n",
      "|  9852|  54|  37|  11| 127|  11|null|   5|  19|  15|  14|null|null|null|   2|   1|   2|   8|   1|null|null|null|  16|null|null|   8|null|null|null|null|null|  13|null|null|   2|null|null|null|null|   1|null|null|   1|null|   2|   1|null|   1|   5|null|null|null|null|null|null|   2|null|null|null|null|null|null|null|null|null|null|null|null|null|null|null|null|null|null|null|   1|null|null|null|null|null|null|null|null|null|null|null|null|null|null|null|null|null|null|   2|null|null|null|null|null|null|   1|null|null|null|null|null|null|   1|\n",
      "| 17420|   3|  61|null|null|null|null|null|null|   4|null|null|null|null|null|null|null|null|null|null|null|null|null|null|null|null|null|null|null|null|null|null|null|null|null|null|null|   1|null|   1|null|null|null|null|null|null|null|null|null|null|null|null|null|null|null|null|null|null|null|null|null|null|null|null|null|null|null|null|null|null|null|null|null|null|null|null|null|null|null|null|null|null|null|null|null|null|null|null|null|null|null|null|null|null|null|null|null|null|null|null|null|null|null|null|null|null|null|null|null|\n",
      "| 19079|null|  16|null|null|null|null|   1|null|   9|null|   8|null|null|null|null|null|null|null|null|   1|null|null|null|null|null|   3|null|null|null|   1|null|null|null|null|null|null|null|null|null|null|null|null|null|null|null|null|null|null|null|null|null|null|null|null|null|null|null|null|   4|null|null|   2|null|null|null|null|null|null|null|  10|null|null|null|null|null|null|null|null|null|null|null|null|null|null|null|   1|null|null|null|null|null|null|null|null|null|null|null|null|null|null|null|null|null|null|null|null|null|   1|\n",
      "|  8086|  44|  54|null|null|null|null|  11|null|null|null|null|null|null|null|null|   1|   1|null|   1|null|null|null|null|null|null|null|null|null|null|null|null|null|null|null|   2|null|null|null|null|null|   1|null|null|   1|null|null|   6|null|null|null|null|null|null|null|null|null|   2|null|null|null|null|null|null|null|null|null|null|null|null|null|null|null|null|null|null|null|null|null|null|null|null|null|null|null|null|null|null|null|null|null|null|null|null|null|null|null|null|null|null|null|null|null|null|null|null|null|null|null|\n",
      "| 20683|  23|  20|null|   1|null|null|   1|   2|   4|   2|null|null|null|null|   2|   1|   1|null|   2|   3|null|null|null|null|null|null|null|null|null|null|   2|null|null|null|   1|  11|null|   4|null|   1|null|null|null|null|null|null|null|null|null|null|null|null|null|null|null|null|null|null|null|null|null|null|null|null|null|null|null|null|null|null|null|null|null|null|null|null|null|   8|null|null|null|null|null|null|null|null|null|null|null|null|null|   1|null|null|null|null|null|null|null|null|null|null|null|null|null|null|null|null|\n",
      "|  2659|  10|  10|   9|  33|null|null|  10|null|null|null|null|null|null|null|null|   1|null|null|null|null|null|   2|null|null|null|null|null|null|null|null|null|null|null|null|null|   2|   4|null|   1|null|null|null|null|null|null|null|null|null|null|null|null|null|null|null|null|null|   1|null|null|null|null|null|null|null|null|null|null|null|null|null|null|null|null|null|null|null|null|null|null|null|null|null|null|null|null|null|null|null|null|null|null|null|null|null|null|null|null|null|null|null|null|null|null|null|null|null|null|null|\n",
      "|  2866|  49|null|   2|   5|   1|null|  19|null|  42|null|  17|null|   2|   6|null|null|null|null|null|null|null|null|null|null|   1|null|null|null|null|null|null|null|null|null|null|null|null|   4|null|null|null|   2|null|null|   1|null|null|null|null|null|null|null|null|null|null|null|null|   1|null|null|null|null|null|null|null|null|null|null|null|null|null|null|null|null|null|null|   8|null|null|null|null|null|null|null|null|null|null|null|null|null|null|null|null|null|null|null|null|null|null|null|null|null|null|null|null|null|null|null|\n",
      "|  7754|  28|  26|   7|   5|   1|null|   4|null|   2|   2|null|null|null|null|null|   2|   3|null|null|null|null|null|null|null|   1|null|null|null|null|null|null|null|   1|null|null|null|null|null|null|null|null|null|null|null|null|null|null|null|null|null|null|null|null|null|null|null|null|null|null|null|null|null|   4|null|null|null|null|null|   1|null|null|null|null|null|null|null|  12|null|null|null|null|null|null|null|null|null|null|null|null|null|null|null|null|null|null|null|null|null|null|null|null|null|null|null|null|null|null|null|\n",
      "| 15957| 149|  60|   1|  17|null|null|   4|   1|   4|  46|   1|null|null|   4|null|   1|   3|null|null|null|   5|   3|null|null|   1|null|null|   1|null|   3|null|null|null|null|   1|null|null|  18|   1|null|null|null|null|null|   1|   1|null|   1|null|null|null|null|null|null|null|null|   1|   1|null|null|null|null|null|null|null|null|null|null|null|null|null|null|null|null|null|   1|null|   6|null|null|null|null|null|null|null|null|null|   2|null|null|null|null|null|null|null|null|null|null|null|null|null|null|null|null|null|null|null|  18|\n",
      "| 16386|  75|  50|null|  90|null|null|   7|   4|   2|   5|null|null|null|  20|   6|   2|null|null|   1|  37|   1|null|null|   3|   2|null|null|   2|null|null|null|   2|null|null|null|null|   1|null|   1|null|  12|null|null|   1|null|null|   1|   1|null|null|null|null|null|null|   1|null|null|   1|null|null|null|null|null|null|null|   1|null|null|null|null|null|null|null|null|null|   1|  12|null|null|null|null|null|null|null|null|null|null|null|null|null|null|null|null|null|null|null|null|null|null|null|null|null|null|null|null|null|null|   2|\n",
      "|  5803|  84|  42|null|   7|null|null|  35|null|null|   1|null|null|null|   2|  95|null|null|null|null|null|null|   1|null|null|  19|null|null|null|null|null|null|null|null|null|   1|null|null|null|   1|null|null|null|null|null|null|null|null|null|null|null|null|null|null|null|null|null|null|   7|null|null|null|null|null|null|null|null|null|null|null|null|null|null|null|null|null|null|null|null|null|null|null|null|null|null|null|null|null|null|null|null|null|null|null|   2|null|null|null|null|null|null|null|null|null|null|null|null|null|   2|\n",
      "|  2366|  43| 222|  17|   1|   1|null|null|   5|null|   6|null|null|   5|null|  13|null|   1|null|null|null|null|null|null|null|null|null|null|null|null|null|   3|null|null|   2|null|null|null|null|null|null|null|null|null|null|null|null|null|null|null|   2|null|null|null|null|null|null|null|null|null|null|null|null|null|null|null|   2|null|null|   2|null|null|null|null|null|null|null|null|null|null|null|null|null|null|null|null|null|null|null|null|null|null|null|null|null|null|null|null|null|null|null|null|null|null|null|null|   2|null|   3|\n",
      "|  3794| 139|  26|  85|   3|   7|  16|null|null|  58|   8|   6|null|   2|   1|   2|   1|  11|   1|   2|null|null|   1|null|null|  10|null|null|   1|null|   1|   1|null|   3|   2|null|null|null|null|null|   1|   1|null|null|null|null|null|null|null|null|null|null|null|   1|null|   2|null|   5|null|null|null|null|null|null|null|null|null|null|null|   4|null|null|null|null|null|null|null|null|null|null|null|null|null|   5|null|null|null|null|null|null|null|null|null|   7|null|null|   1|null|null|null|null|null|null|null|null|null|null|null|null|\n",
      "|  9900|  34|   8|   1|   1|null|null|null|null|   9|null|null|null|null|null|null|null|null|null|null|null|   1|null|null|null|null|null|null|   1|null|   2|   1|null|null|null|null|  14|   1|   1|   3|null|null|null|null|null|null|  13|null|null|   1|null|null|null|   3|   1|   4|null|null|null|   3|  10|null|null|null|null|null|null|null|null|null|null|null|null|null|   3|null|null|null|null|null|null|null|null|null|null|null|null|null|null|null|null|null|null|null|null|null|null|null|null|null|null|null|null|   2|null|null|null|null|   2|\n",
      "| 13289|  33|  28|   1|  10|   1|null|null|   4|   2|  19|null|null|null|null|null|null|   1|null|null|   2|   1|   1|null|   2|   1|null|null|null|null|null|   1|null|   7|null|   1|   3|null|null|null|null|   3|null|null|null|   1|   5|null|null|null|null|null|null|null|null|null|null|null|null|null|null|null|null|null|null|null|null|null|null|null|null|null|null|null|null|null|null|null|null|null|null|null|   2|null|null|null|null|null|null|null|null|null|null|null|null|   1|null|null|null|null|null|null|null|null|null|null|null|null|   2|\n",
      "| 18866|  68|  13|null|  33|null|null|   3|  74|null|   5|null|null|null|  21|   1|   1|null|null|   1|null|null|null|null|null|   1|   2|null|null|null|null|null|null|null|null|null|null|null|null|null|null|null|null|null|null|   1|null|null|null|null|null|null|null|null|null|null|null|null|   6|null|null|null|null|null|null|null|null|null|null|null|null|null|null|null|null|   1|null|null|null|null|null|null|null|null|null|null|null|null|null|null|null|null|null|null|null|null|null|null|null|null|null|null|null|null|null|null|null|null|null|\n",
      "| 18944|  32|  32|null|   4|null|null|null|   2|null|   6|null|null|null|   2|null|null|   2|null|null|null|   1|null|null|null|null|null|null|null|null|null|null|null|null|null|null|null|null|null|null|null|null|null|null|null|null|null|null|null|null|null|null|null|null|null|null|null|null|null|null|null|null|null|null|null|null|null|null|null|   1|null|null|null|null|null|null|null|null|   1|null|null|null|null|null|null|null|null|null|null|null|null|null|null|null|null|null|null|null|null|null|null|null|null|null|null|null|null|null|null|\n",
      "|   833|  40|  82|  39|null|   6|null|   5|null|  24|  14|null|null|   2|null|   3|   1|   1|   5|null|   7|null|   1|null|null|null|null|null|   2|null|   2|null|null|null|   1|   1|null|null|   1|null|null|null|null|null|null|null|null|null|null|null|   3|null|null|null|null|   1|null|   2|null|   1|null|null|   7|null|null|null|null|null|null|null|null|null|null|   1|null|null|null|null|null|null|null|null|null|null|null|null|   3|null|null|null|null|null|null|null|null|null|null|null|null|null|null|null|null|null|null|null|null|null|null|\n",
      "|  1580|   1|  80|   2|   4|   2|null|   4|null|   9|null|   2|null|null|   1|null|null|null|null|null|null|   1|null|null|null|null|null|null|null|null|null|null|null|null|null|null|   2|null|null|null|null|null|null|null|null|null|   1|null|null|null|null|null|null|null|null|null|null|null|null|   1|null|null|null|null|null|null|null|null|null|null|null|null|null|null|null|null|null|null|null|null|null|null|   1|null|null|null|null|null|null|null|null|null|null|null|null|null|null|null|null|null|null|null|null|null|null|null|null|null|   1|\n",
      "| 22223|   2|  27|null|null|null|null|null|null|null|null|null|null|null|null|null|null|   1|null|null|null|null|null|null|null|null|null|null|null|null|   1|null|null|null|null|null|null|   1|null|   1|null|null|null|null|null|   1|null|null|null|null|null|null|null|null|null|null|null|null|null|null|null|null|null|null|null|null|null|null|null|null|null|null|null|null|null|null|null|null|null|null|null|null|null|null|   1|null|null|null|null|null|null|null|null|null|null|null|null|null|null|null|null|null|null|null|null|null|null|null|null|\n",
      "|  7340|   8|  38|null|   8|null|null|   1|null|   1|   7|null|null|null|null|null|null|   5|null|null|null|null|   1|null|null|null|   1|null|null|null|null|null|null|null|null|null|null|null|null|null|null|   2|null|null|   1|   1|   7|null|null|null|null|null|null|null|null|null|null|null|null|null|null|null|null|null|null|null|null|null|null|null|null|null|null|null|null|null|null|null|null|null|null|null|null|null|null|null|null|null|null|null|null|null|null|null|null|null|null|null|null|null|null|null|null|null|null|null|null|null|   2|\n",
      "| 18654| 153|   4|   1|   3|  33|null|null|null|  16|   7|   6|null|   2|   1|null|null|null|null|   1|null|   1|null|null|null|   1|null|null|null|   1|null|null|null|null|null|null|null|   2|null|   2|null|   1|   1|null|null|null|null|null|null|   3|null|null|null|   4|null|null|null|null|null|null|null|null|null|null|null|null|null|null|null|null|null|null|null|null|null|null|null|null|null|null|   1|null|null|null|null|null|null|null|null|null|null|null|null|null|null|null|null|null|null|null|null|null|null|null|null|null|null|null|null|\n",
      "|  8638|  36|  42|  18|   6|   1|null|   6|  20|  15|   2|null|null|null|   7|   2|   1|null|null|null|null|null|null|null|   1|null|null|null|   1|null|null|null|   1|null|null|   1|null|null|null|null|null|null|null|null|null|null|null|null|null|null|null|null|null|null|null|null|null|null|null|null|null|null|null|null|null|null|null|null|null|   1|null|null|   1|null|null|null|null|null|null|   1|null|null|null|null|null|null|null|null|null|null|null|null|null|null|null|null|null|null|null|null|null|null|null|null|null|null|null|null|null|\n",
      "| 16339|  54|  19|   2|  12|   2|null|null|   4|null|  10|null|null|null|   2|   2|null|   1|null|null|   3|null|   1|null|null|   1|null|null|null|null|null|null|null|null|null|null|null|null|null|null|null|null|null|null|null|null|null|null|null|null|null|null|null|null|null|null|null|null|   1|null|null|null|null|null|null|   1|null|null|null|null|null|null|null|null|null|null|null|null|   2|null|null|null|   2|null|null|null|null|null|null|null|null|null|null|null|null|null|null|null|null|null|null|null|null|null|null|null|null|null|   1|\n",
      "| 23015|  54|  27|  27|   5|   4|null|  41|   1|   1|   9|null|null|null|   1|   5|   2|null|null|   1|null|null|   1|null|  35|   9|   5|null|null|null|null|null|   2|null|null|null|null|   2|null|   2|null|  11|null|   2|   2|   2|   1|   7|null|   1|null|null|null|   1|null|   2|   3|null|null|null|null|null|null|null|null|null|null|null|null|null|null|null|null|null|null|   7|null|null|null|null|null|null|   4|null|null|   1|null|null|null|   1|null|null|null|null|null|null|null|null|null|null|null|null|null|null|null|null|null|null|   3|\n",
      "|  4519|   8|  65|null|null|null|null|null|null|  13|   1|null|null|null|null|null|null|null|null|null|null|   1|null|null|null|null|null|null|null|null|null|null|null|null|null|null|null|null|null|null|null|null|null|null|null|null|null|null|null|null|null|null|null|null|null|null|null|null|null|null|null|null|null|null|null|null|null|null|null|null|null|null|null|null|null|null|null|null|null|null|null|null|null|null|null|null|null|null|null|null|null|null|null|null|null|null|null|null|null|null|null|null|null|null|null|null|null|null|   5|\n",
      "|  7880|null|   7|null|null|null|null|null|null|null|null|null|null|null|null|null|null|null|null|null|null|null|null|null|null|null|null|null|null|null|null|null|null|null|null|null|null|null|null|null|null|null|null|null|null|null|null|null|null|null|null|null|null|null|null|null|null|null|null|null|null|null|null|null|null|null|null|null|null|null|null|null|null|null|null|null|null|null|null|null|null|null|null|null|null|null|null|null|null|null|null|null|null|null|null|null|null|null|null|null|null|null|null|null|null|null|null|null|null|\n",
      "| 11317|  61|  38|null|null|null|null|null|null|null|   3|   1|null|null|   7|null|null|   2|null|null|null|null|null|null|null|null|null|null|   1|null|null|null|null|null|null|null|null|null|null|null|null|null|null|null|null|null|null|null|null|null|null|null|null|null|null|null|null|   1|null|null|null|null|null|   1|null|null|null|null|null|null|null|null|null|null|null|null|null|null|null|null|null|null|null|null|null|null|null|null|null|null|null|null|null|null|null|null|null|null|null|null|null|null|null|null|null|null|null|null|null|\n",
      "| 16861|  16|   3|null|null|   1|null|null|null|null|   1|null|null|null|   1|null|null|null|null|null|null|null|null|null|null|null|null|null|null|null|null|null|null|null|null|null|null|null|null|null|null|null|null|null|null|null|null|null|null|null|null|null|null|   2|null|null|null|null|null|null|null|null|null|null|null|null|null|null|null|null|null|null|null|null|null|null|null|null|null|null|null|null|null|null|null|null|null|null|null|null|null|null|null|null|null|null|null|null|null|null|null|null|null|null|null|null|null|null|null|\n",
      "|  7833|   9|   6|null|null|null|null|null|null|   2|null|null|null|null|null|null|null|null|null|null|null|null|null|null|null|null|null|null|null|null|null|null|null|null|null|null|null|null|null|null|null|null|null|null|null|null|null|null|null|   1|null|null|null|null|null|null|null|null|null|null|null|null|null|null|null|null|null|null|null|null|null|null|null|null|null|null|null|null|null|null|null|null|null|null|null|null|null|null|null|null|null|null|null|null|null|null|null|null|null|null|null|null|null|null|null|null|null|null|null|\n",
      "| 10206|   3|  47|null|null|null|null|null|null|null|null|null|null|null|null|null|   1|null|null|null|   2|null|null|null|null|null|null|null|null|null|null|null|null|null|null|null|null|null|null|null|null|null|null|null|null|null|null|null|null|null|null|null|null|null|null|null|null|null|null|null|null|null|null|null|null|null|null|null|null|null|null|null|null|null|null|null|null|null|null|null|null|null|null|null|null|null|null|null|null|null|null|null|null|null|null|null|null|null|null|null|null|null|null|null|null|null|null|null|null|\n",
      "| 15846|   6| 168|null|   3|null|null|   3|   1|   6|null|null|null|null|null|null|null|null|null|null|null|   1|null|null|null|null|null|null|null|null|null|null|null|null|   1|null|null|null|null|null|null|null|null|null|null|null|null|   1|null|null|null|null|null|null|null|null|null|null|null|null|null|null|null|null|null|null|null|null|null|null|null|null|null|   1|null|null|null|null|null|null|null|null|null|null|null|null|null|null|null|null|null|null|null|null|null|null|null|null|null|null|null|null|null|null|null|null|null|null|null|\n",
      "|  6357|  30|  24|null|   6|null|null|null|null|   4|   4|null|null|null|null|null|null|   4|null|   1|null|null|   2|null|   2|null|null|null|null|null|null|null|null|null|null|   1|null|   2|null|null|null|null|null|null|null|null|null|null|   1|null|null|null|null|null|null|   1|null|null|null|null|null|null|null|null|null|null|null|null|null|null|null|null|null|null|null|null|null|null|null|null|null|null|null|null|null|null|null|null|null|null|null|null|null|null|null|null|null|null|null|null|null|null|null|null|null|null|null|null|null|\n",
      "| 17753|   3|  56|null|   1|null|null|  12|   1|   1|   2|null|null|null|null|null|null|null|null|null|  31|null|null|null|   1|null|null|null|null|null|null|null|null|null|null|null|null|null|null|null|null|null|null|null|null|null|null|null|null|null|null|null|null|null|null|null|null|null|null|null|null|null|null|null|null|null|null|null|null|   1|null|null|null|null|null|null|null|null|null|null|null|null|null|null|null|null|null|null|null|null|null|null|null|null|null|null|null|null|null|null|null|null|null|null|null|null|null|null|null|\n",
      "| 16503|   8|  17|   1|null|null|null|null|   1|   1|null|null|null|null|null|null|null|null|null|null|   3|null|null|null|   1|null|null|null|null|null|null|null|null|null|null|null|null|null|null|null|null|null|null|null|null|null|null|null|null|null|null|null|null|null|null|null|null|null|null|null|null|null|null|null|null|null|null|null|null|null|null|null|null|null|null|null|null|null|null|null|null|null|null|null|null|null|null|null|null|null|null|null|null|null|null|null|   1|null|null|null|null|null|null|null|null|null|null|null|   3|\n",
      "| 15790| 112|  10|   3|null|null|null|null|null|  13|   6|   9|null|null|null|  19|null|null|null|null|null|null|null|null|null|  30|null|null|null|null|null|null|null|null|null|null|null|null|null|null|null|null|null|null|null|null|   3|null|null|null|null|null|null|null|null|null|null|null|null|null|null|null|null|null|null|null|null|null|null|null|null|null|null|null|null|null|null|null|null|null|null|null|null|null|null|null|null|null|null|null|null|null|null|null|null|null|null|null|null|null|null|null|null|null|null|null|null|null|null|\n",
      "+------+----+----+----+----+----+----+----+----+----+----+----+----+----+----+----+----+----+----+----+----+----+----+----+----+----+----+----+----+----+----+----+----+----+----+----+----+----+----+----+----+----+----+----+----+----+----+----+----+----+----+----+----+----+----+----+----+----+----+----+----+----+----+----+----+----+----+----+----+----+----+----+----+----+----+----+----+----+----+----+----+----+----+----+----+----+----+----+----+----+----+----+----+----+----+----+----+----+----+----+----+----+----+----+----+----+----+----+----+\n",
      "only showing top 100 rows\n",
      "\n"
     ]
    }
   ],
   "source": [
    "df_2.show(100)"
   ]
  },
  {
   "cell_type": "code",
   "execution_count": 54,
   "metadata": {},
   "outputs": [
    {
     "name": "stdout",
     "output_type": "stream",
     "text": [
      "+------+---+-----+\n",
      "|app_id|mcc|count|\n",
      "+------+---+-----+\n",
      "|  7982|  1|   22|\n",
      "|  7982|  2|    8|\n",
      "|  7982|  3|   12|\n",
      "|  7982|  4|    7|\n",
      "|  7982|  5| null|\n",
      "|  7982|  6| null|\n",
      "|  7982|  7| null|\n",
      "|  7982|  8| null|\n",
      "|  7982|  9| null|\n",
      "|  7982| 10|    1|\n",
      "|  7982| 11| null|\n",
      "|  7982| 12| null|\n",
      "|  7982| 13|    1|\n",
      "|  7982| 14|    1|\n",
      "|  7982| 15|    2|\n",
      "|  7982| 16| null|\n",
      "|  7982| 17| null|\n",
      "|  7982| 18| null|\n",
      "|  7982| 19| null|\n",
      "|  7982| 20| null|\n",
      "+------+---+-----+\n",
      "only showing top 20 rows\n",
      "\n"
     ]
    }
   ],
   "source": [
    "df_2 = df_1.groupBy(\"app_id\").pivot(\"mcc\").count()\n",
    "map_df_2 = (c for x in df_2.columns if x != 'app_id' for c in [lit(x), col(x)])\n",
    "df_3 = df_2.select('app_id', explode(create_map(*map_df_2))).withColumnRenamed(\"key\",\"mcc\").withColumnRenamed(\"value\",\"count\")\n",
    "df_3 = df_3.withColumn(\"mcc\", df_3[\"mcc\"].cast(IntegerType()))\n",
    "df_3.show()"
   ]
  },
  {
   "cell_type": "markdown",
   "metadata": {},
   "source": [
    "Делим данные на тестовую и тренировочную выборку и описываем ALS модель"
   ]
  },
  {
   "cell_type": "code",
   "execution_count": 55,
   "metadata": {},
   "outputs": [
    {
     "data": {
      "text/plain": [
       "pyspark.ml.recommendation.ALS"
      ]
     },
     "execution_count": 55,
     "metadata": {},
     "output_type": "execute_result"
    }
   ],
   "source": [
    "(train, test) = df_3.randomSplit([0.8, 0.2], seed = 1234)\n",
    "\n",
    "als = ALS(  userCol=\"app_id\", \n",
    "            itemCol=\"mcc\",\n",
    "            ratingCol=\"count\",\n",
    "            nonnegative = True,\n",
    "            implicitPrefs = False,\n",
    "            coldStartStrategy=\"drop\")\n",
    "\n",
    "# Проверяем создалась ли модель\n",
    "type(als)"
   ]
  },
  {
   "cell_type": "markdown",
   "metadata": {},
   "source": [
    "Добавляем гиперпараметры в сетку"
   ]
  },
  {
   "cell_type": "code",
   "execution_count": 56,
   "metadata": {},
   "outputs": [
    {
     "name": "stdout",
     "output_type": "stream",
     "text": [
      "Num models to be tested:  16\n"
     ]
    }
   ],
   "source": [
    "param_grid = ParamGridBuilder() \\\n",
    "            .addGrid(als.rank, [10, 50, 100, 150]) \\\n",
    "            .addGrid(als.regParam, [.01, .05, .1, .15]) \\\n",
    "            .build()\n",
    "\n",
    "           \n",
    "evaluator = RegressionEvaluator(metricName=\"rmse\", labelCol=\"count\", predictionCol=\"prediction\") \n",
    "cv = CrossValidator(estimator=als, estimatorParamMaps=param_grid, evaluator=evaluator, numFolds=5)\n",
    "\n",
    "print (\"Num models to be tested: \", len(param_grid))"
   ]
  },
  {
   "cell_type": "markdown",
   "metadata": {},
   "source": [
    "### Build your cross validation pipeline"
   ]
  },
  {
   "cell_type": "code",
   "execution_count": 57,
   "metadata": {},
   "outputs": [
    {
     "name": "stdout",
     "output_type": "stream",
     "text": [
      "CrossValidator_63074e572a88\n"
     ]
    }
   ],
   "source": [
    "cv = CrossValidator(estimator=als, estimatorParamMaps=param_grid, evaluator=evaluator, numFolds=5)\n",
    "\n",
    "print(cv)"
   ]
  },
  {
   "cell_type": "code",
   "execution_count": 58,
   "metadata": {},
   "outputs": [],
   "source": [
    "train = train.na.fill(value=0)"
   ]
  },
  {
   "cell_type": "markdown",
   "metadata": {},
   "source": [
    "Создаём модели и находим лучшую из получившихся"
   ]
  },
  {
   "cell_type": "code",
   "execution_count": 59,
   "metadata": {},
   "outputs": [],
   "source": [
    "model = cv.fit(train)\n",
    "\n",
    "best_model = model.bestModel"
   ]
  },
  {
   "cell_type": "markdown",
   "metadata": {},
   "source": [
    "Выводим параметры лучшей модели"
   ]
  },
  {
   "cell_type": "code",
   "execution_count": 60,
   "metadata": {},
   "outputs": [
    {
     "name": "stdout",
     "output_type": "stream",
     "text": [
      "<class 'pyspark.ml.recommendation.ALSModel'>\n",
      "Rank: 150\n",
      "MaxIter: 10\n",
      "RegParam: 0.01\n"
     ]
    }
   ],
   "source": [
    "print(type(best_model))\n",
    "\n",
    "print(\"Rank:\", best_model._java_obj.parent().getRank())\n",
    "print(\"MaxIter:\", best_model._java_obj.parent().getMaxIter())\n",
    "print(\"RegParam:\", best_model._java_obj.parent().getRegParam())"
   ]
  },
  {
   "cell_type": "code",
   "execution_count": 61,
   "metadata": {},
   "outputs": [],
   "source": [
    "test = test.na.fill(value=0)"
   ]
  },
  {
   "cell_type": "code",
   "execution_count": 62,
   "metadata": {},
   "outputs": [
    {
     "name": "stdout",
     "output_type": "stream",
     "text": [
      "11.08046839967288\n"
     ]
    }
   ],
   "source": [
    "test_predictions = best_model.transform(test)\n",
    "RMSE = evaluator.evaluate(test_predictions)\n",
    "print(RMSE)"
   ]
  },
  {
   "cell_type": "markdown",
   "metadata": {},
   "source": [
    "Выводим вероятности следующего mcc(они же предсказания)"
   ]
  },
  {
   "cell_type": "code",
   "execution_count": 63,
   "metadata": {},
   "outputs": [
    {
     "name": "stdout",
     "output_type": "stream",
     "text": [
      "+------+---+-----+------------+\n",
      "|app_id|mcc|count|  prediction|\n",
      "+------+---+-----+------------+\n",
      "|    28|  3|    1|    9.706513|\n",
      "|    28|  6|    0|   3.0021448|\n",
      "|    28| 18|    0|         0.0|\n",
      "|    28| 27|    0|   1.4721136|\n",
      "|    28| 38|    0|  0.41546574|\n",
      "|    28| 50|    0|  0.14071774|\n",
      "|    28| 53|    0| 0.016827844|\n",
      "|    28| 56|    0| 0.015723333|\n",
      "|    28| 61|    0| 0.009663831|\n",
      "|    28| 62|    0|0.0021118124|\n",
      "|    28| 65|    0|  0.13658728|\n",
      "|    28| 66|    0| 0.034199767|\n",
      "|    28| 79|    0|  0.36139488|\n",
      "|    28| 80|    0| 2.450327E-6|\n",
      "|    28| 82|    0|2.3184177E-5|\n",
      "|    28| 83|    0|0.0011135808|\n",
      "|    28| 87|    0|    1.219594|\n",
      "|    28| 96|    0|  0.06967239|\n",
      "|    28|108|    0| 0.040622175|\n",
      "|    31|  7|    0|    2.792789|\n",
      "+------+---+-----+------------+\n",
      "only showing top 20 rows\n",
      "\n"
     ]
    }
   ],
   "source": [
    "test_predictions.show()"
   ]
  },
  {
   "cell_type": "markdown",
   "metadata": {},
   "source": [
    "Находим предсказания дальнейших действий(они же рекомендации)"
   ]
  },
  {
   "cell_type": "code",
   "execution_count": 64,
   "metadata": {},
   "outputs": [
    {
     "name": "stdout",
     "output_type": "stream",
     "text": [
      "+------+--------------------+\n",
      "|app_id|     recommendations|\n",
      "+------+--------------------+\n",
      "|    28|[{1, 102.72467}, ...|\n",
      "|    31|[{2, 62.664986}, ...|\n",
      "|    34|[{2, 42.85351}, {...|\n",
      "|    53|[{4, 254.44618}, ...|\n",
      "|    65|[{1, 285.24442}, ...|\n",
      "|    78|[{8, 111.8853}, {...|\n",
      "|    81|[{9, 2.9230669}, ...|\n",
      "|    85|[{1, 32.980263}, ...|\n",
      "|   101|[{2, 91.77701}, {...|\n",
      "|   108|[{1, 251.54924}, ...|\n",
      "+------+--------------------+\n",
      "\n"
     ]
    }
   ],
   "source": [
    "nrecommendations = best_model.recommendForAllUsers(10)\n",
    "nrecommendations.limit(10).show()"
   ]
  }
 ],
 "metadata": {
  "kernelspec": {
   "display_name": "Python 3.9.12 ('base')",
   "language": "python",
   "name": "python3"
  },
  "language_info": {
   "codemirror_mode": {
    "name": "ipython",
    "version": 3
   },
   "file_extension": ".py",
   "mimetype": "text/x-python",
   "name": "python",
   "nbconvert_exporter": "python",
   "pygments_lexer": "ipython3",
   "version": "3.9.12"
  },
  "orig_nbformat": 4,
  "vscode": {
   "interpreter": {
    "hash": "c71b0171bcd0a2f058ff3617f90d65983f934ca5415471ca12be517cdb7ed6da"
   }
  }
 },
 "nbformat": 4,
 "nbformat_minor": 2
}
