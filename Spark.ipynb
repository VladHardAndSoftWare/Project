{
 "cells": [
  {
   "cell_type": "code",
   "execution_count": 52,
   "metadata": {},
   "outputs": [],
   "source": [
    "import os\n",
    "import datetime\n",
    "import socket\n",
    "from pyspark import SparkConf, SparkContext, SQLContext\n",
    "from pyspark.sql import SparkSession\n",
    "from pyspark.sql.functions import udf, length, when, col, broadcast\n",
    "from pyspark.sql.types import BooleanType, IntegerType, LongType, StringType, ArrayType, FloatType, StructType, StructField, DateType, BooleanType\n",
    "import pyspark.sql.functions as F\n",
    "from pyspark.sql.functions import pandas_udf\n",
    "from pyspark.sql.functions import PandasUDFType\n",
    "from pyspark import StorageLevel\n",
    "from jinja2 import Environment, FileSystemLoader\n",
    "\n",
    "from pyspark.ml.feature import StringIndexer, VectorAssembler\n",
    "from pyspark.ml.classification import LogisticRegression, DecisionTreeClassifier, RandomForestClassifier, GBTClassifier\n",
    "from pyspark.ml.evaluation import BinaryClassificationEvaluator, MulticlassClassificationEvaluator\n",
    "\n",
    "from collections import Counter"
   ]
  },
  {
   "cell_type": "code",
   "execution_count": 53,
   "metadata": {},
   "outputs": [],
   "source": [
    "from pyspark.sql import SparkSession\n",
    "\n",
    "spark = SparkSession.builder\\\n",
    "        .master(\"local[*]\")\\\n",
    "        .appName('PySpark_Tutorial')\\\n",
    "        .getOrCreate()"
   ]
  },
  {
   "cell_type": "code",
   "execution_count": 54,
   "metadata": {},
   "outputs": [],
   "source": [
    "df = spark.read.parquet(r\"alfabattle2_train_transactions_contest\\train_transactions_contest\\part_000_0_to_23646.parquet\")"
   ]
  },
  {
   "cell_type": "code",
   "execution_count": 55,
   "metadata": {},
   "outputs": [],
   "source": [
    "# df = spark.read.csv(\"new_results.csv\", header=True, inferSchema=True).persist(StorageLevel.DISK_ONLY)"
   ]
  },
  {
   "cell_type": "markdown",
   "metadata": {},
   "source": [
    "## Первичный анализ"
   ]
  },
  {
   "cell_type": "code",
   "execution_count": 56,
   "metadata": {},
   "outputs": [
    {
     "name": "stdout",
     "output_type": "stream",
     "text": [
      "+------+-------------------+--------+--------------+---------+--------------+--------------------+--------------+--------------+-----------+---+-------+----+------------+-----------+----+-----------+----------+---------+------------------+-----------------+\n",
      "|app_id|               amnt|currency|operation_kind|card_type|operation_type|operation_type_group|ecommerce_flag|payment_system|income_flag|mcc|country|city|mcc_category|day_of_week|hour|days_before|weekofyear|hour_diff|transaction_number|__index_level_0__|\n",
      "+------+-------------------+--------+--------------+---------+--------------+--------------------+--------------+--------------+-----------+---+-------+----+------------+-----------+----+-----------+----------+---------+------------------+-----------------+\n",
      "|     0| 0.4654254330729043|       1|             4|       98|             4|                   2|             3|             7|          3|  2|      1|  37|           2|          4|  19|        351|        34|       -1|                 1|                0|\n",
      "|     0|                0.0|       1|             2|       98|             7|                   1|             3|             7|          3|  2|      1|  49|           2|          4|  20|        351|        34|        0|                 2|                1|\n",
      "|     0| 0.5211518246354306|       1|             2|       98|             3|                   1|             3|             7|          3|  2|      1|  37|           2|          4|  20|        351|        34|        0|                 3|                2|\n",
      "|     0|0.35607835388631826|       1|             1|        5|             2|                   1|             3|             7|          3| 10|      1|  49|           7|          2|   0|        348|        34|       52|                 4|                3|\n",
      "|     0|                0.0|       1|             2|       98|             7|                   1|             3|             7|          3|  2|      1|  49|           2|          4|  16|        337|        53|      280|                 5|                4|\n",
      "+------+-------------------+--------+--------------+---------+--------------+--------------------+--------------+--------------+-----------+---+-------+----+------------+-----------+----+-----------+----------+---------+------------------+-----------------+\n",
      "only showing top 5 rows\n",
      "\n"
     ]
    }
   ],
   "source": [
    "df.show(5)"
   ]
  },
  {
   "cell_type": "code",
   "execution_count": 57,
   "metadata": {},
   "outputs": [
    {
     "name": "stdout",
     "output_type": "stream",
     "text": [
      "+------+-------------------+--------+--------------+---------+--------------+--------------------+--------------+--------------+-----------+---+-------+----+------------+-----------+----+-----------+\n",
      "|app_id|               amnt|currency|operation_kind|card_type|operation_type|operation_type_group|ecommerce_flag|payment_system|income_flag|mcc|country|city|mcc_category|day_of_week|hour|days_before|\n",
      "+------+-------------------+--------+--------------+---------+--------------+--------------------+--------------+--------------+-----------+---+-------+----+------------+-----------+----+-----------+\n",
      "|     0| 0.4654254330729043|       1|             4|       98|             4|                   2|             3|             7|          3|  2|      1|  37|           2|          4|  19|        351|\n",
      "|     0|                0.0|       1|             2|       98|             7|                   1|             3|             7|          3|  2|      1|  49|           2|          4|  20|        351|\n",
      "|     0| 0.5211518246354306|       1|             2|       98|             3|                   1|             3|             7|          3|  2|      1|  37|           2|          4|  20|        351|\n",
      "|     0|0.35607835388631826|       1|             1|        5|             2|                   1|             3|             7|          3| 10|      1|  49|           7|          2|   0|        348|\n",
      "|     0|                0.0|       1|             2|       98|             7|                   1|             3|             7|          3|  2|      1|  49|           2|          4|  16|        337|\n",
      "|     0| 0.5168336566977262|       1|             2|       98|             3|                   1|             3|             7|          3|  2|      1|  37|           2|          4|  16|        337|\n",
      "|     0|0.25897237458612055|       1|             2|       98|             3|                   1|             1|             6|          1|  2|      1|   2|           2|          2|  18|        334|\n",
      "|     0| 0.2975890792412704|       1|             2|       98|             3|                   1|             1|             6|          1|  2|      1|   2|           2|          2|  19|        327|\n",
      "|     0|0.35607835388631826|       1|             1|        5|             2|                   1|             1|             2|          1| 10|      1|  49|           7|          7|  13|        326|\n",
      "|     0| 0.3335471947477638|       1|             1|        5|             2|                   1|             1|             2|          1| 10|      1|  49|           7|          7|  13|        326|\n",
      "|     0|0.47326619024995087|       1|             2|       98|             3|                   1|             1|             6|          1|  2|      1|   2|           2|          2|  15|        320|\n",
      "|     0| 0.4143443875134992|       1|             1|        5|             2|                   1|             1|             2|          1| 10|      1|  49|           7|          5|  14|        317|\n",
      "|     0|0.25897237458612055|       1|             2|       98|             3|                   1|             1|             6|          1|  2|      1|   2|           2|          3|  20|        315|\n",
      "|     0| 0.4654254330729043|       1|             2|       98|             7|                   1|             1|             1|          1|  2|      1|  49|           2|          6|  15|        304|\n",
      "|     0| 0.4968216419774925|       1|             2|       98|             3|                   1|             1|             6|          1|  2|      1|   2|           2|          5|  19|        303|\n",
      "|     0|0.26427006943118053|       1|             3|       98|             5|                   1|             1|             6|          1|  9|      1|   1|           2|          5|  21|        303|\n",
      "|     0| 0.2975890792412704|       1|             2|       98|             3|                   1|             1|             6|          1|  2|      1|   2|           2|          2|  19|        299|\n",
      "|     0|0.22047578925700645|       1|             1|        5|             2|                   1|             1|             2|          1|  1|      1|  49|           1|          4|   7|        295|\n",
      "|     0| 0.3363445046218684|       1|             2|        5|             3|                   1|             1|             6|          1|  2|      1|   2|           2|          4|  19|        295|\n",
      "|     0|0.49519527420040704|       1|             2|       98|             3|                   1|             1|             6|          1|  2|      1|   2|           2|          4|  13|        288|\n",
      "+------+-------------------+--------+--------------+---------+--------------+--------------------+--------------+--------------+-----------+---+-------+----+------------+-----------+----+-----------+\n",
      "only showing top 20 rows\n",
      "\n"
     ]
    }
   ],
   "source": [
    "df[\n",
    " 'app_id',\n",
    " 'amnt',\n",
    " 'currency',\n",
    " 'operation_kind',\n",
    " 'card_type',\n",
    " 'operation_type',\n",
    " 'operation_type_group',\n",
    " 'ecommerce_flag',\n",
    " 'payment_system',\n",
    " 'income_flag',\n",
    " 'mcc',\n",
    " 'country',\n",
    " 'city',\n",
    " 'mcc_category',\n",
    " 'day_of_week',\n",
    " 'hour',\n",
    " 'days_before',\n",
    "#  'weekofyear',\n",
    "#  'hour_diff',\n",
    "#  'transaction_number',\n",
    "].show()"
   ]
  },
  {
   "cell_type": "code",
   "execution_count": 58,
   "metadata": {},
   "outputs": [
    {
     "name": "stdout",
     "output_type": "stream",
     "text": [
      "root\n",
      " |-- app_id: integer (nullable = true)\n",
      " |-- amnt: double (nullable = true)\n",
      " |-- currency: integer (nullable = true)\n",
      " |-- operation_kind: integer (nullable = true)\n",
      " |-- card_type: integer (nullable = true)\n",
      " |-- operation_type: integer (nullable = true)\n",
      " |-- operation_type_group: integer (nullable = true)\n",
      " |-- ecommerce_flag: integer (nullable = true)\n",
      " |-- payment_system: integer (nullable = true)\n",
      " |-- income_flag: integer (nullable = true)\n",
      " |-- mcc: integer (nullable = true)\n",
      " |-- country: integer (nullable = true)\n",
      " |-- city: integer (nullable = true)\n",
      " |-- mcc_category: integer (nullable = true)\n",
      " |-- day_of_week: integer (nullable = true)\n",
      " |-- hour: integer (nullable = true)\n",
      " |-- days_before: integer (nullable = true)\n",
      " |-- weekofyear: integer (nullable = true)\n",
      " |-- hour_diff: long (nullable = true)\n",
      " |-- transaction_number: integer (nullable = true)\n",
      " |-- __index_level_0__: long (nullable = true)\n",
      "\n"
     ]
    }
   ],
   "source": [
    "df.printSchema()"
   ]
  },
  {
   "cell_type": "markdown",
   "metadata": {},
   "source": [
    "* app_id - Идентификатор заявки. заявки пронумерованы так, что более поздним заявкам соответствует более поздняя дата\n",
    "* amnt - Нормированная сумма транзакции. 0.0 - соответствует пропускам\n",
    "* currency - Идентификатор валюты транзакции\n",
    "* operation_kind - Идентификатор типа транзакции\n",
    "* card_type - Уникальный идентификатор типа карты\n",
    "* operation_type - Идентификатор типа операции по пластиковой карте\n",
    "* operationtypegroup - Идентификатор группы карточных операций, например, дебетовая карта или кредитная карта\n",
    "* ecommerce_flag - Признак электронной коммерции\n",
    "* payment_system - Идентификатор типа платежной системы\n",
    "* income_flag - Признак списания/внесения денежных средств на карту\n",
    "* mcc - Уникальный идентификатор типа торговой точки\n",
    "* country - Идентификатор страны транзакции\n",
    "* city - Идентификатор города транзакции\n",
    "* mcc_category - Идентификатор категории магазина транзакции\n",
    "* dayofweek - День недели, когда транзакция была совершена\n",
    "* hour - Час, когда транзакция была совершена\n",
    "* days_before - Количество дней до даты выдачи кредита\n",
    "* weekofyear - Номер недели в году, когда транзакция была совершена\n",
    "* hour_diff - Количество часов с момента прошлой транзакции для данного клиента\n",
    "* transaction_number - Порядковый номер транзакции клиента"
   ]
  },
  {
   "cell_type": "code",
   "execution_count": 59,
   "metadata": {},
   "outputs": [
    {
     "data": {
      "text/plain": [
       "['app_id',\n",
       " 'amnt',\n",
       " 'currency',\n",
       " 'operation_kind',\n",
       " 'card_type',\n",
       " 'operation_type',\n",
       " 'operation_type_group',\n",
       " 'ecommerce_flag',\n",
       " 'payment_system',\n",
       " 'income_flag',\n",
       " 'mcc',\n",
       " 'country',\n",
       " 'city',\n",
       " 'mcc_category',\n",
       " 'day_of_week',\n",
       " 'hour',\n",
       " 'days_before',\n",
       " 'weekofyear',\n",
       " 'hour_diff',\n",
       " 'transaction_number',\n",
       " '__index_level_0__']"
      ]
     },
     "execution_count": 59,
     "metadata": {},
     "output_type": "execute_result"
    }
   ],
   "source": [
    "df.columns"
   ]
  },
  {
   "cell_type": "code",
   "execution_count": 60,
   "metadata": {},
   "outputs": [
    {
     "name": "stdout",
     "output_type": "stream",
     "text": [
      "+-------+------------------+-------------------+-----------------+------------------+------------------+------------------+--------------------+------------------+------------------+-------------------+\n",
      "|summary|            app_id|               amnt|         currency|    operation_kind|         card_type|    operation_type|operation_type_group|    ecommerce_flag|    payment_system|        income_flag|\n",
      "+-------+------------------+-------------------+-----------------+------------------+------------------+------------------+--------------------+------------------+------------------+-------------------+\n",
      "|  count|           5408648|            5408648|          5408648|           5408648|           5408648|           5408648|             5408648|           5408648|           5408648|            5408648|\n",
      "|   mean|11967.004015791008| 0.3731903180912123|1.102896509441916| 1.432611624938432|53.709856696165104|2.6666381321173054|  1.0809721764108147|1.1010409625473871|2.1071733638424983| 1.0823603236890253|\n",
      "| stddev| 6861.200472507923|0.09935179143215543| 0.81092170778488|0.9207239443748066| 48.74927214981967|2.8111520521070346|  0.2779329398737516| 0.301421630375407|1.2630178988421994|0.27495730597398194|\n",
      "|    min|                 0|                0.0|                1|                 1|                 1|                 1|                   1|                 1|                 1|                  1|\n",
      "|    max|             23646| 0.9652161166432719|               11|                 7|               175|                22|                   3|                 3|                 7|                  3|\n",
      "+-------+------------------+-------------------+-----------------+------------------+------------------+------------------+--------------------+------------------+------------------+-------------------+\n",
      "\n"
     ]
    }
   ],
   "source": [
    "df['app_id',\n",
    " 'amnt',\n",
    " 'currency',\n",
    " 'operation_kind',\n",
    " 'card_type',\n",
    " 'operation_type',\n",
    " 'operation_type_group',\n",
    " 'ecommerce_flag',\n",
    " 'payment_system',\n",
    " 'income_flag'].describe().show()"
   ]
  },
  {
   "cell_type": "code",
   "execution_count": 61,
   "metadata": {},
   "outputs": [
    {
     "name": "stdout",
     "output_type": "stream",
     "text": [
      "+-------+------------------+------------------+------------------+------------------+------------------+-----------------+------------------+------------------+------------------+------------------+\n",
      "|summary|               mcc|           country|              city|      mcc_category|       day_of_week|             hour|       days_before|        weekofyear|         hour_diff|transaction_number|\n",
      "+-------+------------------+------------------+------------------+------------------+------------------+-----------------+------------------+------------------+------------------+------------------+\n",
      "|  count|           5408648|           5408648|           5408648|           5408648|           5408648|          5408648|           5408648|           5408648|           5408648|           5408648|\n",
      "|   mean|12.961375005361784|1.5631464646987565| 20.34707878937583|4.4080431930493535|3.8609362265764013|14.16820968937154|168.13116826977833|25.945357693826626|31.924373706700823|270.64004276114844|\n",
      "| stddev|21.278957324247546|2.8294175781243123|34.776122740867685| 4.543976625869378|1.9970891413330527|4.836613144637747|102.24494766926824|14.742904160346711| 95.14842540694244|302.13034267137175|\n",
      "|    min|                 1|                 1|                 1|                 1|                 1|                0|                 1|                 1|                -1|                 1|\n",
      "|    max|               108|                24|               163|                28|                 7|               23|               359|                53|              8011|              4183|\n",
      "+-------+------------------+------------------+------------------+------------------+------------------+-----------------+------------------+------------------+------------------+------------------+\n",
      "\n"
     ]
    }
   ],
   "source": [
    "df['mcc',\n",
    " 'country',\n",
    " 'city',\n",
    " 'mcc_category',\n",
    " 'day_of_week',\n",
    " 'hour',\n",
    " 'days_before',\n",
    " 'weekofyear',\n",
    " 'hour_diff',\n",
    " 'transaction_number',\n",
    " ].describe().show()\n",
    "#  '__index_level_0__'"
   ]
  },
  {
   "cell_type": "code",
   "execution_count": 62,
   "metadata": {},
   "outputs": [],
   "source": [
    "# import seaborn as sns\n",
    "\n",
    "# fig, ax = plt.subplots(figsize=(20,10))\n",
    "# attr = [\"Value (x$1000)\",\"Shares\",\"Voting Sole\",\"Shared\",\"None\", \"open\", \"high\", \"low\",\"close\",\"volume\",\"total_value\",\"Shares type indexed\",\"CUSIP indexed\",\"ticker indexed\",\"CIK indexed\", \"target\", 'next_target']\n",
    "# ax.set_title(\"Correlation Matrix\")\n",
    "\n",
    "# ax = sns.heatmap(corrmatrix, linewidth=0.5, annot=True, fmt='.1g')\n",
    "# ax.set_xticklabels(attr)\n",
    "# ax.set_yticklabels(attr)\n",
    "# plt.xticks(rotation = 45)\n",
    "# plt.yticks(rotation = 45)\n",
    "# plt.show()"
   ]
  },
  {
   "cell_type": "markdown",
   "metadata": {},
   "source": [
    "## Рекомендательная система"
   ]
  },
  {
   "cell_type": "code",
   "execution_count": 63,
   "metadata": {},
   "outputs": [],
   "source": [
    "from pyspark.ml.evaluation import RegressionEvaluator\n",
    "from pyspark.ml.recommendation import ALS\n",
    "from pyspark.ml.tuning import ParamGridBuilder, CrossValidator"
   ]
  },
  {
   "cell_type": "markdown",
   "metadata": {},
   "source": [
    "Создаём рейтинг mcc"
   ]
  },
  {
   "cell_type": "code",
   "execution_count": 64,
   "metadata": {},
   "outputs": [
    {
     "name": "stdout",
     "output_type": "stream",
     "text": [
      "+------+---+-----------+----------+\n",
      "|app_id|mcc|day_of_week|weekofyear|\n",
      "+------+---+-----------+----------+\n",
      "|     0|  2|          4|        34|\n",
      "|     0|  2|          4|        34|\n",
      "|     0|  2|          4|        34|\n",
      "|     0| 10|          2|        34|\n",
      "|     0|  2|          4|        53|\n",
      "|     0|  2|          4|        53|\n",
      "|     0|  2|          2|        53|\n",
      "|     0|  2|          2|        52|\n",
      "|     0| 10|          7|        52|\n",
      "|     0| 10|          7|        52|\n",
      "|     0|  2|          2|        50|\n",
      "|     0| 10|          5|        39|\n",
      "|     0|  2|          3|        39|\n",
      "|     0|  2|          6|        48|\n",
      "|     0|  2|          5|        48|\n",
      "|     0|  9|          5|        48|\n",
      "|     0|  2|          2|        48|\n",
      "|     0|  1|          4|        46|\n",
      "|     0|  2|          4|        46|\n",
      "|     0|  2|          4|        20|\n",
      "+------+---+-----------+----------+\n",
      "only showing top 20 rows\n",
      "\n"
     ]
    }
   ],
   "source": [
    "df_1 = df[\"app_id\",\"mcc\",\"day_of_week\", \"weekofyear\"]\n",
    "df_1.show()"
   ]
  },
  {
   "cell_type": "code",
   "execution_count": 65,
   "metadata": {},
   "outputs": [
    {
     "name": "stdout",
     "output_type": "stream",
     "text": [
      "root\n",
      " |-- app_id: integer (nullable = true)\n",
      " |-- mcc: integer (nullable = true)\n",
      " |-- day_of_week: integer (nullable = true)\n",
      " |-- weekofyear: integer (nullable = true)\n",
      "\n"
     ]
    }
   ],
   "source": [
    "df_1.printSchema()"
   ]
  },
  {
   "cell_type": "markdown",
   "metadata": {},
   "source": [
    "Ограничиваем данные одним днём"
   ]
  },
  {
   "cell_type": "code",
   "execution_count": 66,
   "metadata": {},
   "outputs": [],
   "source": [
    "import datetime\n",
    "\n",
    "now = datetime.datetime.now()"
   ]
  },
  {
   "cell_type": "code",
   "execution_count": 67,
   "metadata": {},
   "outputs": [],
   "source": [
    "import datetime\n",
    "\n",
    "now = datetime.datetime.now()\n",
    "# df_2 = df_1[(df_1[\"day_of_week\"] == now.weekday) & (df_1[\"weekofyear\"] == now.year)]\n",
    "# print(df_1.filter(col(\"day_of_week\") == now.weekday).collect())"
   ]
  },
  {
   "cell_type": "code",
   "execution_count": 68,
   "metadata": {},
   "outputs": [],
   "source": [
    "from pyspark.sql.functions import create_map, lit, explode"
   ]
  },
  {
   "cell_type": "code",
   "execution_count": 86,
   "metadata": {},
   "outputs": [
    {
     "name": "stdout",
     "output_type": "stream",
     "text": [
      "+------+---+-----+\n",
      "|app_id|mcc|count|\n",
      "+------+---+-----+\n",
      "|  7982|  1|   22|\n",
      "|  7982|  2|    8|\n",
      "|  7982|  3|   12|\n",
      "|  7982|  4|    7|\n",
      "|  7982|  5| null|\n",
      "|  7982|  6| null|\n",
      "|  7982|  7| null|\n",
      "|  7982|  8| null|\n",
      "|  7982|  9| null|\n",
      "|  7982| 10|    1|\n",
      "|  7982| 11| null|\n",
      "|  7982| 12| null|\n",
      "|  7982| 13|    1|\n",
      "|  7982| 14|    1|\n",
      "|  7982| 15|    2|\n",
      "|  7982| 16| null|\n",
      "|  7982| 17| null|\n",
      "|  7982| 18| null|\n",
      "|  7982| 19| null|\n",
      "|  7982| 20| null|\n",
      "+------+---+-----+\n",
      "only showing top 20 rows\n",
      "\n"
     ]
    }
   ],
   "source": [
    "df_2 = df_1.groupBy(\"app_id\").pivot(\"mcc\").count()\n",
    "map_df_2 = (c for x in df_2.columns if x != 'app_id' for c in [lit(x), col(x)])\n",
    "df_3 = df_2.select('app_id', explode(create_map(*map_df_2))).withColumnRenamed(\"key\",\"mcc\").withColumnRenamed(\"value\",\"count\")\n",
    "df_3 = df_3.withColumn(\"mcc\", df_3[\"mcc\"].cast(IntegerType()))\n",
    "df_3.show()"
   ]
  },
  {
   "cell_type": "code",
   "execution_count": 70,
   "metadata": {},
   "outputs": [
    {
     "name": "stdout",
     "output_type": "stream",
     "text": [
      "root\n",
      " |-- app_id: integer (nullable = true)\n",
      " |-- mcc: integer (nullable = true)\n",
      " |-- count: long (nullable = true)\n",
      "\n"
     ]
    }
   ],
   "source": [
    "df_3.printSchema()"
   ]
  },
  {
   "cell_type": "code",
   "execution_count": 71,
   "metadata": {},
   "outputs": [
    {
     "data": {
      "text/plain": [
       "pyspark.ml.recommendation.ALS"
      ]
     },
     "execution_count": 71,
     "metadata": {},
     "output_type": "execute_result"
    }
   ],
   "source": [
    "# Create test and train set\n",
    "(train, test) = df_3.randomSplit([0.8, 0.2], seed = 1234)\n",
    "\n",
    "# Create ALS model\n",
    "als = ALS(  userCol=\"app_id\", \n",
    "            itemCol=\"mcc\",\n",
    "            ratingCol=\"count\",\n",
    "            nonnegative = True,\n",
    "            implicitPrefs = False,\n",
    "            coldStartStrategy=\"drop\")\n",
    "\n",
    "# Confirm that a model called \"als\" was created\n",
    "type(als)"
   ]
  },
  {
   "cell_type": "code",
   "execution_count": 72,
   "metadata": {},
   "outputs": [
    {
     "name": "stdout",
     "output_type": "stream",
     "text": [
      "Num models to be tested:  16\n"
     ]
    }
   ],
   "source": [
    "# Add hyperparameters and their respective values to param_grid\n",
    "param_grid = ParamGridBuilder() \\\n",
    "            .addGrid(als.rank, [10, 50, 100, 150]) \\\n",
    "            .addGrid(als.regParam, [.01, .05, .1, .15]) \\\n",
    "            .build()\n",
    "            #             .addGrid(als.maxIter, [5, 50, 100, 200]) \\\n",
    "\n",
    "           \n",
    "# Define evaluator as RMSE and print length of evaluator\n",
    "evaluator = RegressionEvaluator(metricName=\"rmse\", labelCol=\"count\", predictionCol=\"prediction\") \n",
    "print (\"Num models to be tested: \", len(param_grid))"
   ]
  },
  {
   "cell_type": "markdown",
   "metadata": {},
   "source": [
    "### Build your cross validation pipeline"
   ]
  },
  {
   "cell_type": "code",
   "execution_count": 73,
   "metadata": {},
   "outputs": [
    {
     "name": "stdout",
     "output_type": "stream",
     "text": [
      "CrossValidator_25d627d25ea1\n"
     ]
    }
   ],
   "source": [
    "# Build cross validation using CrossValidator\n",
    "cv = CrossValidator(estimator=als, estimatorParamMaps=param_grid, evaluator=evaluator, numFolds=5)\n",
    "\n",
    "# Confirm cv was built\n",
    "print(cv)"
   ]
  },
  {
   "cell_type": "code",
   "execution_count": 74,
   "metadata": {},
   "outputs": [],
   "source": [
    "train = train.na.fill(value=0)"
   ]
  },
  {
   "cell_type": "code",
   "execution_count": 77,
   "metadata": {},
   "outputs": [],
   "source": [
    "#Fit cross validator to the 'train' dataset\n",
    "model = cv.fit(train)\n",
    "\n",
    "#Extract best model from the cv model above\n",
    "best_model = model.bestModel"
   ]
  },
  {
   "cell_type": "code",
   "execution_count": 78,
   "metadata": {},
   "outputs": [
    {
     "name": "stdout",
     "output_type": "stream",
     "text": [
      "<class 'pyspark.ml.recommendation.ALSModel'>\n",
      "**Best Model**\n",
      "  Rank: 150\n",
      "  MaxIter: 10\n",
      "  RegParam: 0.01\n"
     ]
    }
   ],
   "source": [
    "# Print best_model\n",
    "print(type(best_model))\n",
    "\n",
    "# Complete the code below to extract the ALS model parameters\n",
    "print(\"**Best Model**\")\n",
    "\n",
    "# # Print \"Rank\"\n",
    "print(\"  Rank:\", best_model._java_obj.parent().getRank())\n",
    "\n",
    "# Print \"MaxIter\"\n",
    "print(\"  MaxIter:\", best_model._java_obj.parent().getMaxIter())\n",
    "\n",
    "# Print \"RegParam\"\n",
    "print(\"  RegParam:\", best_model._java_obj.parent().getRegParam())"
   ]
  },
  {
   "cell_type": "code",
   "execution_count": 80,
   "metadata": {},
   "outputs": [],
   "source": [
    "test = test.na.fill(value=0)"
   ]
  },
  {
   "cell_type": "code",
   "execution_count": 81,
   "metadata": {},
   "outputs": [
    {
     "name": "stdout",
     "output_type": "stream",
     "text": [
      "11.06338609595949\n"
     ]
    }
   ],
   "source": [
    "# View the predictions\n",
    "test_predictions = best_model.transform(test)\n",
    "RMSE = evaluator.evaluate(test_predictions)\n",
    "print(RMSE)"
   ]
  },
  {
   "cell_type": "code",
   "execution_count": 82,
   "metadata": {},
   "outputs": [
    {
     "name": "stdout",
     "output_type": "stream",
     "text": [
      "+------+---+-----+------------+\n",
      "|app_id|mcc|count|  prediction|\n",
      "+------+---+-----+------------+\n",
      "|    28|  3|    1|   17.050058|\n",
      "|    28|  6|    0|     6.56532|\n",
      "|    28| 18|    0|         0.0|\n",
      "|    28| 27|    0|   1.1472384|\n",
      "|    28| 38|    0|    4.986567|\n",
      "|    28| 50|    0|  0.80591667|\n",
      "|    28| 53|    0|   2.2959392|\n",
      "|    28| 56|    0| 0.018748956|\n",
      "|    28| 61|    0|0.0012728251|\n",
      "|    28| 62|    0|0.0031631365|\n",
      "|    28| 65|    0|   1.0087055|\n",
      "|    28| 66|    0|  0.11613556|\n",
      "|    28| 79|    0|   1.1144736|\n",
      "|    28| 80|    0|  0.14943416|\n",
      "|    28| 82|    0|   1.7378793|\n",
      "|    28| 83|    0|0.0023888317|\n",
      "|    28| 87|    0|  0.08898787|\n",
      "|    28| 96|    0|  0.12451648|\n",
      "|    28|108|    0|  0.59120995|\n",
      "|    31|  7|    0|   5.6454105|\n",
      "+------+---+-----+------------+\n",
      "only showing top 20 rows\n",
      "\n"
     ]
    }
   ],
   "source": [
    "test_predictions.show()"
   ]
  },
  {
   "cell_type": "code",
   "execution_count": 83,
   "metadata": {},
   "outputs": [
    {
     "name": "stderr",
     "output_type": "stream",
     "text": [
      "c:\\Users\\vladm\\anaconda3\\lib\\site-packages\\pyspark\\sql\\context.py:125: FutureWarning: Deprecated in 3.0.0. Use SparkSession.builder.getOrCreate() instead.\n",
      "  warnings.warn(\n"
     ]
    },
    {
     "name": "stdout",
     "output_type": "stream",
     "text": [
      "+------+--------------------+\n",
      "|app_id|     recommendations|\n",
      "+------+--------------------+\n",
      "|    28|[{1, 102.78399}, ...|\n",
      "|    31|[{2, 62.46824}, {...|\n",
      "|    34|[{2, 42.810116}, ...|\n",
      "|    53|[{4, 253.964}, {1...|\n",
      "|    65|[{1, 285.31662}, ...|\n",
      "|    78|[{8, 112.24294}, ...|\n",
      "|    81|[{9, 2.9355652}, ...|\n",
      "|    85|[{1, 32.966114}, ...|\n",
      "|   101|[{2, 91.71269}, {...|\n",
      "|   108|[{1, 251.58226}, ...|\n",
      "+------+--------------------+\n",
      "\n"
     ]
    }
   ],
   "source": [
    "# Generate n Recommendations for all users\n",
    "nrecommendations = best_model.recommendForAllUsers(10)\n",
    "nrecommendations.limit(10).show()"
   ]
  }
 ],
 "metadata": {
  "kernelspec": {
   "display_name": "Python 3.9.12 ('base')",
   "language": "python",
   "name": "python3"
  },
  "language_info": {
   "codemirror_mode": {
    "name": "ipython",
    "version": 3
   },
   "file_extension": ".py",
   "mimetype": "text/x-python",
   "name": "python",
   "nbconvert_exporter": "python",
   "pygments_lexer": "ipython3",
   "version": "3.9.12"
  },
  "orig_nbformat": 4,
  "vscode": {
   "interpreter": {
    "hash": "c71b0171bcd0a2f058ff3617f90d65983f934ca5415471ca12be517cdb7ed6da"
   }
  }
 },
 "nbformat": 4,
 "nbformat_minor": 2
}
